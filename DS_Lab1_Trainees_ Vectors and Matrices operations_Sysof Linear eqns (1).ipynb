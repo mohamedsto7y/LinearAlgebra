{
 "cells": [
  {
   "cell_type": "code",
   "execution_count": 1,
   "id": "9c0d929f",
   "metadata": {},
   "outputs": [],
   "source": [
    "import numpy as np"
   ]
  },
  {
   "cell_type": "markdown",
   "id": "c56a1fa4",
   "metadata": {},
   "source": [
    "## Warm Up: Practice some NumPy commands:\n",
    "- Create 3 * 3 array.\n",
    "- Check its shape.\n",
    "- Select first row.\n",
    "- Select 2nd column.\n",
    "- Select the 2nd element in the third column.\n",
    "- Create 2*2 from the first two elements of the first 2 rows and columns.\n",
    "- Create single row vector.\n",
    "- Create single column vector."
   ]
  },
  {
   "cell_type": "code",
   "execution_count": null,
   "id": "c673e74e-549e-4f02-bd94-a4095860c35e",
   "metadata": {},
   "outputs": [],
   "source": []
  },
  {
   "cell_type": "code",
   "execution_count": 2,
   "id": "0c088336-1989-463f-b977-9adab217abd7",
   "metadata": {},
   "outputs": [],
   "source": [
    "array = np.array([[1, 2, 3],\n",
    "                      [4, 5, 6],\n",
    "                      [7, 8, 9]])"
   ]
  },
  {
   "cell_type": "code",
   "execution_count": 3,
   "id": "08c2205b-2341-4331-9fb6-705a0db7365d",
   "metadata": {},
   "outputs": [
    {
     "data": {
      "text/plain": [
       "(3, 3)"
      ]
     },
     "execution_count": 3,
     "metadata": {},
     "output_type": "execute_result"
    }
   ],
   "source": [
    "array.shape"
   ]
  },
  {
   "cell_type": "code",
   "execution_count": 4,
   "id": "1ff0b914-fc81-4875-a5da-cbc4a1341342",
   "metadata": {},
   "outputs": [
    {
     "data": {
      "text/plain": [
       "array([1, 2, 3])"
      ]
     },
     "execution_count": 4,
     "metadata": {},
     "output_type": "execute_result"
    }
   ],
   "source": [
    "array[0, :]"
   ]
  },
  {
   "cell_type": "code",
   "execution_count": 5,
   "id": "b757742e-f261-4819-9f94-ef8c2fba5fab",
   "metadata": {},
   "outputs": [
    {
     "data": {
      "text/plain": [
       "array([2, 5, 8])"
      ]
     },
     "execution_count": 5,
     "metadata": {},
     "output_type": "execute_result"
    }
   ],
   "source": [
    "array[:, 1]"
   ]
  },
  {
   "cell_type": "code",
   "execution_count": 6,
   "id": "82aafe17-5030-4e4d-a9b9-5796ad93eaa1",
   "metadata": {},
   "outputs": [
    {
     "data": {
      "text/plain": [
       "8"
      ]
     },
     "execution_count": 6,
     "metadata": {},
     "output_type": "execute_result"
    }
   ],
   "source": [
    "array[2, 1]"
   ]
  },
  {
   "cell_type": "code",
   "execution_count": 8,
   "id": "997f7eea",
   "metadata": {},
   "outputs": [
    {
     "data": {
      "text/plain": [
       "array([[1, 2],\n",
       "       [4, 5]])"
      ]
     },
     "execution_count": 8,
     "metadata": {},
     "output_type": "execute_result"
    }
   ],
   "source": [
    "two_by_two = array[:2, :2]\n",
    "two_by_two"
   ]
  },
  {
   "cell_type": "code",
   "execution_count": null,
   "id": "67e4a2d0-eec4-49c7-9040-889334259777",
   "metadata": {},
   "outputs": [],
   "source": []
  },
  {
   "cell_type": "code",
   "execution_count": 10,
   "id": "137257a3-5680-45fa-a8d5-438c41081d0c",
   "metadata": {},
   "outputs": [
    {
     "data": {
      "text/plain": [
       "array([1, 2, 3])"
      ]
     },
     "execution_count": 10,
     "metadata": {},
     "output_type": "execute_result"
    }
   ],
   "source": [
    "single_row_vector = np.array([1, 2, 3])\n",
    "single_row_vector"
   ]
  },
  {
   "cell_type": "code",
   "execution_count": null,
   "id": "309d60ba-2a95-4e6c-a67d-28bacd70f460",
   "metadata": {},
   "outputs": [],
   "source": []
  },
  {
   "cell_type": "code",
   "execution_count": 12,
   "id": "11963f37-a96e-4e91-a731-7424b7d68367",
   "metadata": {},
   "outputs": [
    {
     "data": {
      "text/plain": [
       "array([[1],\n",
       "       [2],\n",
       "       [3]])"
      ]
     },
     "execution_count": 12,
     "metadata": {},
     "output_type": "execute_result"
    }
   ],
   "source": [
    "single_column_vector = np.array([[1],\n",
    "                                 [2],\n",
    "                                 [3]])\n",
    "single_column_vector"
   ]
  },
  {
   "cell_type": "code",
   "execution_count": null,
   "id": "10a8c57c-adbc-4841-aafc-b73e693b0a50",
   "metadata": {},
   "outputs": [],
   "source": []
  },
  {
   "cell_type": "code",
   "execution_count": null,
   "id": "3b5babf4-34f5-4029-a951-4d79209b6bb6",
   "metadata": {},
   "outputs": [],
   "source": []
  },
  {
   "cell_type": "code",
   "execution_count": null,
   "id": "56d999a6-f2e8-432c-b970-0c21edef55c2",
   "metadata": {},
   "outputs": [],
   "source": []
  },
  {
   "cell_type": "code",
   "execution_count": null,
   "id": "d892aa4a",
   "metadata": {},
   "outputs": [],
   "source": []
  },
  {
   "cell_type": "markdown",
   "id": "935d4b46",
   "metadata": {},
   "source": [
    "## System of linear equations:\n",
    "- The following system of linear equations can be represented as <b>Ax=b</b>.\n",
    "- Define matrix <b>A</b> and vector <b>b</b> as numpy arrays.\n",
    "- Print them out.\n",
    "1. $$3x-y=2$$ $$x=4 $$\n",
    "$$$$\n",
    "2. $$3x-2y=7$$  $$2x-2y=2$$\n",
    "$$$$\n",
    "3. $$2x-2y+z=7$$  $$x+y+z=2$$  $$3x-2y-z=3$$ "
   ]
  },
  {
   "cell_type": "code",
   "execution_count": null,
   "id": "baabae47-a12d-4eac-978d-1234b3f15f7b",
   "metadata": {},
   "outputs": [],
   "source": []
  },
  {
   "cell_type": "code",
   "execution_count": 13,
   "id": "5b39cd35-6bc8-43c9-9056-50cdc5e22ed5",
   "metadata": {},
   "outputs": [],
   "source": [
    "A1 = np.array([[3, -1],\n",
    "               [1, 0]])"
   ]
  },
  {
   "cell_type": "code",
   "execution_count": 14,
   "id": "698b1aed-a149-4eac-997c-e0a4ddf4c407",
   "metadata": {},
   "outputs": [
    {
     "data": {
      "text/plain": [
       "array([[ 3, -1],\n",
       "       [ 1,  0]])"
      ]
     },
     "execution_count": 14,
     "metadata": {},
     "output_type": "execute_result"
    }
   ],
   "source": [
    "A1"
   ]
  },
  {
   "cell_type": "code",
   "execution_count": 15,
   "id": "7f921bf2-3568-4324-8d6a-753018261365",
   "metadata": {},
   "outputs": [],
   "source": [
    "b1 = np.array([[2],\n",
    "               [4]])"
   ]
  },
  {
   "cell_type": "code",
   "execution_count": 16,
   "id": "ecc03ed9-72e5-4d39-b851-329a17fcc653",
   "metadata": {},
   "outputs": [
    {
     "data": {
      "text/plain": [
       "array([[2],\n",
       "       [4]])"
      ]
     },
     "execution_count": 16,
     "metadata": {},
     "output_type": "execute_result"
    }
   ],
   "source": [
    "b1"
   ]
  },
  {
   "cell_type": "code",
   "execution_count": 17,
   "id": "6df3a729-17af-4e9c-963c-ea10e6e746b4",
   "metadata": {},
   "outputs": [
    {
     "name": "stdout",
     "output_type": "stream",
     "text": [
      "\n",
      "A2:\n",
      "[[ 3 -2]\n",
      " [ 2 -2]]\n",
      "b2:\n",
      "[[7]\n",
      " [2]]\n"
     ]
    }
   ],
   "source": [
    "A2 = np.array([[3, -2],\n",
    "               [2, -2]])\n",
    "\n",
    "b2 = np.array([[7],\n",
    "               [2]])\n",
    "\n",
    "print(\"\\nA2:\")\n",
    "print(A2)\n",
    "print(\"b2:\")\n",
    "print(b2)"
   ]
  },
  {
   "cell_type": "code",
   "execution_count": 19,
   "id": "6ee10687-aa29-4da5-a08b-1c7b9c163a0b",
   "metadata": {},
   "outputs": [
    {
     "name": "stdout",
     "output_type": "stream",
     "text": [
      "\n",
      "A3:\n",
      "[[ 3 -2  1]\n",
      " [ 1  1  1]\n",
      " [ 3 -2 -1]]\n",
      "b3:\n",
      "[[7]\n",
      " [2]\n",
      " [3]]\n"
     ]
    }
   ],
   "source": [
    "A3 = np.array([[3, -2, 1],\n",
    "               [1, 1, 1],\n",
    "               [3, -2, -1]])\n",
    "\n",
    "b3 = np.array([[7],\n",
    "               [2],\n",
    "               [3]])\n",
    "\n",
    "print(\"\\nA3:\")\n",
    "print(A3)\n",
    "print(\"b3:\")\n",
    "print(b3)"
   ]
  },
  {
   "cell_type": "code",
   "execution_count": null,
   "id": "8e43ff7e-d034-4c88-baf8-62aeaae4a96e",
   "metadata": {},
   "outputs": [],
   "source": []
  },
  {
   "cell_type": "code",
   "execution_count": 2,
   "id": "fd76ca8b",
   "metadata": {
    "scrolled": true
   },
   "outputs": [
    {
     "name": "stdout",
     "output_type": "stream",
     "text": [
      "A1:\n",
      "[[ 3 -1]\n",
      " [ 1  0]]\n",
      "b1:[[2]\n",
      " [4]]\n",
      "\n",
      "A2:\n",
      "[[ 3 -2]\n",
      " [ 2 -2]]\n",
      "b1:[[7]\n",
      " [2]]\n",
      "\n",
      "A3:\n",
      "[[ 3 -2  1]\n",
      " [ 1  1  1]\n",
      " [ 3 -2 -1]]\n",
      "b1:[[7]\n",
      " [2]\n",
      " [3]]\n"
     ]
    }
   ],
   "source": []
  },
  {
   "cell_type": "markdown",
   "id": "6fa32a70",
   "metadata": {},
   "source": [
    "### Find a solution for the above systems of equations using:\n",
    "<b>np.linalg.inv()</b>"
   ]
  },
  {
   "cell_type": "code",
   "execution_count": null,
   "id": "899a2f1e-8af0-4ae6-9332-29a528f1cccb",
   "metadata": {},
   "outputs": [],
   "source": []
  },
  {
   "cell_type": "code",
   "execution_count": null,
   "id": "af326f95-cc8f-43bd-8abf-7f48eecf7e4a",
   "metadata": {},
   "outputs": [],
   "source": []
  },
  {
   "cell_type": "markdown",
   "id": "a102ce6c-f4b6-4bd0-821f-2dc126c18317",
   "metadata": {},
   "source": [
    "***since Ax=b therefore x=A_inv.*b***"
   ]
  },
  {
   "cell_type": "code",
   "execution_count": 21,
   "id": "18af8930-06c5-4684-88d2-4a9d2177cdc1",
   "metadata": {},
   "outputs": [
    {
     "name": "stdout",
     "output_type": "stream",
     "text": [
      "x1:\n",
      "[[ 4.]\n",
      " [10.]]\n",
      "x2\n",
      "[[5.]\n",
      " [4.]]\n",
      "x3\n",
      "[[ 1.]\n",
      " [-1.]\n",
      " [ 2.]]\n"
     ]
    }
   ],
   "source": [
    "A1_inv = np.linalg.inv(A1)\n",
    "A2_inv = np.linalg.inv(A2)\n",
    "A3_inv = np.linalg.inv(A3)\n",
    "\n",
    "x1 = np.dot(A1_inv, b1)\n",
    "x2 = np.dot(A2_inv, b2)\n",
    "x3 = np.dot(A3_inv, b3)\n",
    "\n",
    "print(\"x1:\")\n",
    "print(x1)\n",
    "\n",
    "print(\"x2\")\n",
    "print(x2)\n",
    "\n",
    "print(\"x3\")\n",
    "print(x3)"
   ]
  },
  {
   "cell_type": "code",
   "execution_count": 8,
   "id": "fd743ec7",
   "metadata": {},
   "outputs": [
    {
     "name": "stdout",
     "output_type": "stream",
     "text": [
      "x1= [[ 4.]\n",
      " [10.]] \n",
      "\n",
      "x2= [[5.]\n",
      " [4.]] \n",
      "\n",
      "x3= [[ 1.]\n",
      " [-1.]\n",
      " [ 2.]]\n"
     ]
    }
   ],
   "source": []
  },
  {
   "cell_type": "code",
   "execution_count": null,
   "id": "14ea2890",
   "metadata": {},
   "outputs": [],
   "source": []
  },
  {
   "cell_type": "markdown",
   "id": "6213a04c",
   "metadata": {},
   "source": [
    "### Find a solution for the above systems of equations using:\n",
    "<b>np.linalg.solve()</b>"
   ]
  },
  {
   "cell_type": "code",
   "execution_count": null,
   "id": "b566132d-1712-474f-98a6-8f3ceca9e415",
   "metadata": {},
   "outputs": [],
   "source": []
  },
  {
   "cell_type": "code",
   "execution_count": 24,
   "id": "ed329766-bf69-4c0a-b07f-601523fd801e",
   "metadata": {},
   "outputs": [
    {
     "name": "stdout",
     "output_type": "stream",
     "text": [
      "x1=\n",
      "[[ 4.]\n",
      " [10.]]\n",
      "x2=\n",
      "[[5.]\n",
      " [4.]]\n",
      "x3=\n",
      "[[ 1.]\n",
      " [-1.]\n",
      " [ 2.]]\n"
     ]
    }
   ],
   "source": [
    "x1 = np.linalg.solve(A1, b1)\n",
    "x2 = np.linalg.solve(A2, b2)\n",
    "x3 = np.linalg.solve(A3, b3)\n",
    "print(\"x1=\")\n",
    "print(x1)\n",
    "\n",
    "print(\"x2=\")\n",
    "print(x2)\n",
    "\n",
    "print(\"x3=\")\n",
    "print(x3)"
   ]
  },
  {
   "cell_type": "code",
   "execution_count": 3,
   "id": "e2dba8f6",
   "metadata": {},
   "outputs": [
    {
     "name": "stdout",
     "output_type": "stream",
     "text": [
      "x1= [[ 4.]\n",
      " [10.]] \n",
      "\n",
      "x2= [[5.]\n",
      " [4.]] \n",
      "\n",
      "x3= [[ 1.]\n",
      " [-1.]\n",
      " [ 2.]]\n"
     ]
    }
   ],
   "source": []
  },
  {
   "cell_type": "markdown",
   "id": "35de5d9a",
   "metadata": {},
   "source": [
    "## Using numpy arrays\n",
    "- For the above systems of equations, multiply matrix <b>A</b> and vector <b>x</b> and make sure the result is <b>b</b>."
   ]
  },
  {
   "cell_type": "code",
   "execution_count": null,
   "id": "a200090d-4b30-4bfc-a306-f3e75657fd3f",
   "metadata": {},
   "outputs": [],
   "source": []
  },
  {
   "cell_type": "code",
   "execution_count": 25,
   "id": "32388bda-4cd7-4196-a4d6-b50bd28acdd2",
   "metadata": {},
   "outputs": [
    {
     "data": {
      "text/plain": [
       "array([[2.],\n",
       "       [4.]])"
      ]
     },
     "execution_count": 25,
     "metadata": {},
     "output_type": "execute_result"
    }
   ],
   "source": [
    "np.dot(A1, x1)"
   ]
  },
  {
   "cell_type": "code",
   "execution_count": 4,
   "id": "587ad6d5",
   "metadata": {},
   "outputs": [
    {
     "data": {
      "text/plain": [
       "array([[2.],\n",
       "       [4.]])"
      ]
     },
     "execution_count": 4,
     "metadata": {},
     "output_type": "execute_result"
    }
   ],
   "source": []
  },
  {
   "cell_type": "code",
   "execution_count": null,
   "id": "cba447fc-79e6-4f2d-a7b2-34eda25e8e8d",
   "metadata": {},
   "outputs": [],
   "source": []
  },
  {
   "cell_type": "code",
   "execution_count": 26,
   "id": "1dd6cd90-39fe-40d4-a778-f1dbad480331",
   "metadata": {},
   "outputs": [
    {
     "data": {
      "text/plain": [
       "array([[7.],\n",
       "       [2.]])"
      ]
     },
     "execution_count": 26,
     "metadata": {},
     "output_type": "execute_result"
    }
   ],
   "source": [
    "np.dot(A2, x2)"
   ]
  },
  {
   "cell_type": "code",
   "execution_count": 5,
   "id": "6564621e",
   "metadata": {},
   "outputs": [
    {
     "data": {
      "text/plain": [
       "array([[7.],\n",
       "       [2.]])"
      ]
     },
     "execution_count": 5,
     "metadata": {},
     "output_type": "execute_result"
    }
   ],
   "source": []
  },
  {
   "cell_type": "code",
   "execution_count": 27,
   "id": "235151b9-c790-459f-9df1-c44db5549205",
   "metadata": {},
   "outputs": [
    {
     "data": {
      "text/plain": [
       "array([[7.],\n",
       "       [2.],\n",
       "       [3.]])"
      ]
     },
     "execution_count": 27,
     "metadata": {},
     "output_type": "execute_result"
    }
   ],
   "source": [
    "np.dot(A3, x3)"
   ]
  },
  {
   "cell_type": "code",
   "execution_count": 6,
   "id": "3cc9cd71",
   "metadata": {},
   "outputs": [
    {
     "data": {
      "text/plain": [
       "array([[7.],\n",
       "       [2.],\n",
       "       [3.]])"
      ]
     },
     "execution_count": 6,
     "metadata": {},
     "output_type": "execute_result"
    }
   ],
   "source": []
  },
  {
   "cell_type": "code",
   "execution_count": null,
   "id": "aaa3fb0f",
   "metadata": {},
   "outputs": [],
   "source": []
  },
  {
   "cell_type": "markdown",
   "id": "5b20d61b",
   "metadata": {},
   "source": [
    "## Vector Norms"
   ]
  },
  {
   "cell_type": "markdown",
   "id": "053d9605",
   "metadata": {},
   "source": [
    "### Calculate using numpy linalg.norm().\n",
    "- Calculate L1, L2, Lmax norms for the following vectors:\n",
    "$$v_1=\\begin{bmatrix} 1 \\\\ 2 \\\\ 3 \\end{bmatrix},\n",
    "v_2=\\begin{bmatrix} 3 \\\\ 3 \\\\ 1 \\\\ 3 \\end{bmatrix}$$\n",
    "- Calculate L3 norm for the vector\n",
    "$$v_3=\\begin{bmatrix} 2 \\\\  3 \\\\ 4 \\end{bmatrix}$$"
   ]
  },
  {
   "cell_type": "code",
   "execution_count": 7,
   "id": "e5187437",
   "metadata": {},
   "outputs": [],
   "source": []
  },
  {
   "cell_type": "code",
   "execution_count": 33,
   "id": "edd26cb7",
   "metadata": {},
   "outputs": [
    {
     "name": "stdout",
     "output_type": "stream",
     "text": [
      "v1:\n",
      "L1: 6.0\n",
      "L2: 3.7416573867739413\n",
      "Lmax: 3.0\n"
     ]
    }
   ],
   "source": [
    "v1 = np.array([1, 2, 3])\n",
    "v2 = np.array([3, 3, 1 ,3])\n",
    "v3 = np.array([2, 3, 4])\n",
    "\n",
    "l1_norm_v1 = np.linalg.norm(v1, ord=1)\n",
    "l2_norm_v1 = np.linalg.norm(v1, ord=2)\n",
    "lmax_norm_v1 = np.linalg.norm(v1, ord=np.inf)\n",
    "print(\"v1:\")\n",
    "print(\"L1:\", l1_norm_v1)\n",
    "print(\"L2:\", l2_norm_v1)\n",
    "print(\"Lmax:\", lmax_norm_v1)"
   ]
  },
  {
   "cell_type": "code",
   "execution_count": 34,
   "id": "bf6dafc6-2546-44e2-8ac4-74a73c6d46ac",
   "metadata": {},
   "outputs": [
    {
     "name": "stdout",
     "output_type": "stream",
     "text": [
      "v2:\n",
      "L1: 10.0\n",
      "L2: 5.291502622129181\n",
      "Lmax: 3.0\n"
     ]
    }
   ],
   "source": [
    "l1_norm_v2 = np.linalg.norm(v2, ord=1)\n",
    "l2_norm_v2 = np.linalg.norm(v2, ord=2)\n",
    "lmax_norm_v2 = np.linalg.norm(v2, ord=np.inf)\n",
    "print(\"v2:\")\n",
    "print(\"L1:\", l1_norm_v2)\n",
    "print(\"L2:\", l2_norm_v2)\n",
    "print(\"Lmax:\", lmax_norm_v2)"
   ]
  },
  {
   "cell_type": "code",
   "execution_count": 36,
   "id": "951f3d25-1654-45ab-8f8f-39931ee8c883",
   "metadata": {},
   "outputs": [
    {
     "name": "stdout",
     "output_type": "stream",
     "text": [
      "v3:\n",
      "L3: 4.626065009182741\n"
     ]
    }
   ],
   "source": [
    "l3_norm_v3 = np.linalg.norm(v3, ord=3)\n",
    "print(\"v3:\")\n",
    "print(\"L3:\", l3_norm_v3)"
   ]
  },
  {
   "cell_type": "code",
   "execution_count": 9,
   "id": "5276012c",
   "metadata": {},
   "outputs": [
    {
     "name": "stdout",
     "output_type": "stream",
     "text": [
      "v1:\n",
      "L1: 6.0\n",
      "L2: 3.7416573867739413\n",
      "Lmax: 3.0\n",
      "\n",
      "v2:\n",
      "L1: 10.0\n",
      "L2: 5.291502622129181\n",
      "Lmax: 3.0\n",
      "\n",
      "v3:\n",
      "L3: 4.626065009182741\n"
     ]
    }
   ],
   "source": []
  },
  {
   "cell_type": "markdown",
   "id": "4a09c2e3",
   "metadata": {},
   "source": [
    "### Calculate L1, L2, L3, and Lmax for the following vectors:\n",
    "$$v_1=\\begin{bmatrix} 5 \\\\ 6 \\end{bmatrix},\n",
    "v_2=\\begin{bmatrix} 4 \\\\ 3 \\\\ 2 \\end{bmatrix},\n",
    "v_3=\\begin{bmatrix} 4 \\\\ 3 \\\\ 2 \\\\ 8 \\\\ 9 \\end{bmatrix}$$"
   ]
  },
  {
   "cell_type": "code",
   "execution_count": 37,
   "id": "09f386c2-49b1-48f2-a587-79a6de4a1459",
   "metadata": {},
   "outputs": [],
   "source": [
    "v1 = np.array([5, 6, ])\n",
    "v2 = np.array([4, 3, 2 ])\n",
    "v3 = np.array([4, 3, 2 , 8, 9])"
   ]
  },
  {
   "cell_type": "code",
   "execution_count": 39,
   "id": "bba654f7-4f50-486f-b8d1-8bdad2726792",
   "metadata": {},
   "outputs": [
    {
     "name": "stdout",
     "output_type": "stream",
     "text": [
      "v1:\n",
      "L1: 11.0\n",
      "L2: 7.810249675906654\n",
      "L3: 6.986368027818105\n",
      "Lmax: 6.0\n",
      "v2:\n",
      "L1: 9.0\n",
      "L2: 5.385164807134504\n",
      "L3: 11.02473771449733\n",
      "Lmax: 4.0\n",
      "v3:\n",
      "L1: 26.0\n",
      "L2: 13.19090595827292\n",
      "L3: 11.02473771449733\n",
      "Lmax: 9.0\n"
     ]
    }
   ],
   "source": [
    "l1_norm_v1 = np.linalg.norm(v1, ord=1)\n",
    "l2_norm_v1 = np.linalg.norm(v1, ord=2)\n",
    "l3_norm_v1 = np.linalg.norm(v1, ord=3)\n",
    "lmax_norm_v1 = np.linalg.norm(v1, ord=np.inf)\n",
    "print(\"v1:\")\n",
    "print(\"L1:\", l1_norm_v1)\n",
    "print(\"L2:\", l2_norm_v1)\n",
    "print(\"L3:\", l3_norm_v1)\n",
    "print(\"Lmax:\", lmax_norm_v1)\n",
    "\n",
    "l1_norm_v2 = np.linalg.norm(v2, ord=1)\n",
    "l2_norm_v2 = np.linalg.norm(v2, ord=2)\n",
    "l3_norm_v2 = np.linalg.norm(v2, ord=3)\n",
    "lmax_norm_v2 = np.linalg.norm(v2, ord=np.inf)\n",
    "print(\"v2:\")\n",
    "print(\"L1:\", l1_norm_v2)\n",
    "print(\"L2:\", l2_norm_v2)\n",
    "print(\"L3:\", l3_norm_v3)\n",
    "print(\"Lmax:\", lmax_norm_v2)\n",
    "\n",
    "l1_norm_v3 = np.linalg.norm(v3, ord=1)\n",
    "l2_norm_v3 = np.linalg.norm(v3, ord=2)\n",
    "l3_norm_v3 = np.linalg.norm(v3, ord=3)\n",
    "lmax_norm_v3 = np.linalg.norm(v3, ord=np.inf)\n",
    "print(\"v3:\")\n",
    "print(\"L1:\", l1_norm_v3)\n",
    "print(\"L2:\", l2_norm_v3)\n",
    "print(\"L3:\", l3_norm_v3)\n",
    "print(\"Lmax:\", lmax_norm_v3)"
   ]
  },
  {
   "cell_type": "code",
   "execution_count": 10,
   "id": "f8024557",
   "metadata": {},
   "outputs": [
    {
     "name": "stdout",
     "output_type": "stream",
     "text": [
      "v1:\n",
      "L1: 11.0\n",
      "L2: 7.810249675906654\n",
      "L3: 6.986368027818105\n",
      "Lmax: 6.0\n",
      "\n",
      "v2:\n",
      "L1: 9.0\n",
      "L2: 5.385164807134504\n",
      "L3: 4.626065009182741\n",
      "Lmax: 4.0\n",
      "\n",
      "v3:\n",
      "L1: 26.0\n",
      "L2: 13.19090595827292\n",
      "L3: 11.02473771449733\n",
      "Lmax: 9.0\n"
     ]
    }
   ],
   "source": []
  },
  {
   "cell_type": "markdown",
   "id": "8a1a0092",
   "metadata": {},
   "source": [
    "## Dot Product"
   ]
  },
  {
   "cell_type": "markdown",
   "id": "9560b90d",
   "metadata": {},
   "source": [
    "### Calculate the dot product of the following vectors:\n",
    "$$v_1=\\begin{bmatrix} 2 \\\\ -1 \\\\ 5 \\\\ 0 \\end{bmatrix} and\n",
    "v_2=\\begin{bmatrix} 4 \\\\ -3 \\\\ 1 \\\\ -1 \\end{bmatrix}$$\n",
    "### Calculate the dot product of the following vectors and explain the result:\n",
    "$$v_1=\\begin{bmatrix} 3 \\\\ 2 \\\\ -1 \\\\ 4 \\end{bmatrix} and\n",
    "v_2=\\begin{bmatrix} 1 \\\\ -1 \\\\ 1 \\\\ 0 \\end{bmatrix} $$ "
   ]
  },
  {
   "cell_type": "code",
   "execution_count": 40,
   "id": "a8161fc3-d6fe-446d-8fa5-c0980d6f967a",
   "metadata": {},
   "outputs": [],
   "source": [
    "v1 = np.array([2, -1, 5, 0])\n",
    "v2 = np.array([4, -3, 1 ,-1])"
   ]
  },
  {
   "cell_type": "code",
   "execution_count": 41,
   "id": "e011767b-46bc-4a97-aff9-1e3ef88e5325",
   "metadata": {},
   "outputs": [
    {
     "data": {
      "text/plain": [
       "16"
      ]
     },
     "execution_count": 41,
     "metadata": {},
     "output_type": "execute_result"
    }
   ],
   "source": [
    "v1@v2"
   ]
  },
  {
   "cell_type": "code",
   "execution_count": 11,
   "id": "ce34a72e",
   "metadata": {},
   "outputs": [
    {
     "data": {
      "text/plain": [
       "16"
      ]
     },
     "execution_count": 11,
     "metadata": {},
     "output_type": "execute_result"
    }
   ],
   "source": []
  },
  {
   "cell_type": "code",
   "execution_count": 42,
   "id": "edb55b33-587b-4f1a-a7f3-a352717b3291",
   "metadata": {},
   "outputs": [],
   "source": [
    "v1 = np.array([3, 2, -1, 4])\n",
    "v2 = np.array([1, -1, 1 ,0])"
   ]
  },
  {
   "cell_type": "code",
   "execution_count": 43,
   "id": "1f8699bd-9762-444e-9341-b64c406fb1d4",
   "metadata": {},
   "outputs": [
    {
     "data": {
      "text/plain": [
       "0"
      ]
     },
     "execution_count": 43,
     "metadata": {},
     "output_type": "execute_result"
    }
   ],
   "source": [
    "v1@v2"
   ]
  },
  {
   "cell_type": "code",
   "execution_count": 12,
   "id": "80b5b407",
   "metadata": {},
   "outputs": [
    {
     "data": {
      "text/plain": [
       "0"
      ]
     },
     "execution_count": 12,
     "metadata": {},
     "output_type": "execute_result"
    }
   ],
   "source": []
  },
  {
   "cell_type": "markdown",
   "id": "f56c9a66",
   "metadata": {},
   "source": [
    "### Create two vectors in 2, 3, and 4 dimensions.\n",
    "### Perform vector addition, subtraction, and dot product of these vectors."
   ]
  },
  {
   "cell_type": "code",
   "execution_count": null,
   "id": "6aa9a2d2-0aa0-41a2-a0c4-158662d39385",
   "metadata": {},
   "outputs": [],
   "source": []
  },
  {
   "cell_type": "code",
   "execution_count": 194,
   "id": "47b7e946-f6e8-4d3d-8952-3f9c48447633",
   "metadata": {},
   "outputs": [],
   "source": [
    "v2_a = np.array([1, 2])\n",
    "v2_b = np.array([-3, 4])\n",
    "\n",
    "addition_result_2d = v2_a + v2_b\n",
    "subtraction_result_2d = v2_a - v2_b\n",
    "dot_product_2d = np.dot(v2_a, v2_b)\n",
    "\n",
    "\n",
    "v3_a = np.array([2, -1, 3])\n",
    "v3_b = np.array([0, 1, -2])\n",
    "\n",
    "addition_result_3d = v3_a + v3_b\n",
    "subtraction_result_3d = v3_a - v3_b\n",
    "dot_product_3d = np.dot(v3_a, v3_b)\n",
    "\n",
    "\n",
    "v4_a = np.array([1, 2, -1, 4])\n",
    "v4_b = np.array([3, -2, 0, 1])\n",
    "\n",
    "addition_result_4d = v4_a + v4_b\n",
    "subtraction_result_4d = v4_a - v4_b\n",
    "dot_product_4d = np.dot(v4_a, v4_b)"
   ]
  },
  {
   "cell_type": "code",
   "execution_count": 193,
   "id": "812dfb12-f4c1-416a-a317-93ff6cff0dd4",
   "metadata": {},
   "outputs": [
    {
     "name": "stdout",
     "output_type": "stream",
     "text": [
      "2D:\n",
      "Addition: [-2  6]\n",
      "Subtraction: [ 4 -2]\n",
      "Dot Product: 5\n",
      "3D:\n",
      "[2 0 1]\n",
      "[ 2 -2  5]\n",
      "-7\n",
      "4D:\n",
      "[ 4  0 -1  5]\n",
      "[-2  4 -1  3]\n",
      "3\n"
     ]
    }
   ],
   "source": [
    "print(\"2D:\")\n",
    "print(\"Addition:\", addition_result_2d)\n",
    "print(\"Subtraction:\", subtraction_result_2d)\n",
    "print(\"Dot Product:\", dot_product_2d)\n",
    "\n",
    "print(\"3D:\")\n",
    "\n",
    "print( addition_result_3d)\n",
    "print( subtraction_result_3d)\n",
    "print( dot_product_3d)\n",
    "\n",
    "print(\"4D:\")\n",
    "print(addition_result_4d)\n",
    "print(subtraction_result_4d)\n",
    "print(dot_product_4d)"
   ]
  },
  {
   "cell_type": "code",
   "execution_count": null,
   "id": "ee00f96e",
   "metadata": {},
   "outputs": [],
   "source": []
  },
  {
   "cell_type": "markdown",
   "id": "2a742954",
   "metadata": {},
   "source": [
    "## Matrix Operations"
   ]
  },
  {
   "cell_type": "markdown",
   "id": "7c857d78",
   "metadata": {},
   "source": [
    "### Matrix Multiplication AB then Transpose the result.\n",
    "$$A=\\begin{bmatrix} 3&1&0 \\\\ 2&1&2 \\end{bmatrix}, B=\\begin{bmatrix} 1&3 \\\\ 2&5 \\\\ -1&3 \\end{bmatrix}$$\n",
    "$$A=\\begin{bmatrix} 1&0&3 \\\\ 4&5&-1 \\\\ 0&0&2  \\end{bmatrix}, B=\\begin{bmatrix} 1\\\\2\\\\5 \\end{bmatrix}$$"
   ]
  },
  {
   "cell_type": "code",
   "execution_count": null,
   "id": "2b9ed25f-2c92-4d8b-9bdd-ac64b567f58f",
   "metadata": {},
   "outputs": [],
   "source": []
  },
  {
   "cell_type": "code",
   "execution_count": 195,
   "id": "341ba1a9-22ac-48e9-ba64-66acd3c18a89",
   "metadata": {},
   "outputs": [
    {
     "name": "stdout",
     "output_type": "stream",
     "text": [
      "C1:\n",
      "[[ 5 14]\n",
      " [ 2 17]]\n",
      "C1_transpose:\n",
      "[[ 5  2]\n",
      " [14 17]]\n",
      "C2:\n",
      "[[16]\n",
      " [ 9]\n",
      " [10]]\n",
      "C2_transpose:\n",
      "[[16  9 10]]\n"
     ]
    }
   ],
   "source": [
    "A = np.array([[3, 1, 0],\n",
    "              [2, 1, 2]])\n",
    "\n",
    "B = np.array([[1, 3],\n",
    "              [2, 5],\n",
    "              [-1,3]])\n",
    "C1 = np.dot(A, B)\n",
    "C1_transpose = np.transpose(C1)\n",
    "\n",
    "C2 = np.array([[16],\n",
    "               [9],\n",
    "               [10]])\n",
    "C2_transpose = np.transpose(C2)\n",
    "\n",
    "\n",
    "print(\"C1:\")\n",
    "print(C1)\n",
    "\n",
    "print(\"C1_transpose:\")\n",
    "print(C1_transpose)\n",
    "\n",
    "print(\"C2:\")\n",
    "print(C2)\n",
    "\n",
    "print(\"C2_transpose:\")\n",
    "print(C2_transpose)"
   ]
  },
  {
   "cell_type": "code",
   "execution_count": 13,
   "id": "9a6d4119",
   "metadata": {},
   "outputs": [
    {
     "name": "stdout",
     "output_type": "stream",
     "text": [
      "C1:\n",
      "[[ 5 14]\n",
      " [ 2 17]]\n",
      "\n",
      "C1_transpose:\n",
      "[[ 5  2]\n",
      " [14 17]]\n",
      "\n",
      "C2:\n",
      "[[16]\n",
      " [ 9]\n",
      " [10]]\n",
      "\n",
      "C2_transpose:\n",
      "[[16  9 10]]\n"
     ]
    }
   ],
   "source": []
  },
  {
   "cell_type": "markdown",
   "id": "a21c1d6f",
   "metadata": {},
   "source": [
    "## Different Types of Matrices\n",
    "### Create 3 by 3 and 4 by 4 identity matrices "
   ]
  },
  {
   "cell_type": "code",
   "execution_count": 52,
   "id": "bd3c4aa5-cceb-477c-bca5-2a502da84c5c",
   "metadata": {},
   "outputs": [
    {
     "data": {
      "text/plain": [
       "array([[1., 0., 0.],\n",
       "       [0., 1., 0.],\n",
       "       [0., 0., 1.]])"
      ]
     },
     "execution_count": 52,
     "metadata": {},
     "output_type": "execute_result"
    }
   ],
   "source": [
    "np.eye(3)"
   ]
  },
  {
   "cell_type": "code",
   "execution_count": 5,
   "id": "b8174f59",
   "metadata": {},
   "outputs": [
    {
     "data": {
      "text/plain": [
       "array([[1., 0., 0.],\n",
       "       [0., 1., 0.],\n",
       "       [0., 0., 1.]])"
      ]
     },
     "execution_count": 5,
     "metadata": {},
     "output_type": "execute_result"
    }
   ],
   "source": []
  },
  {
   "cell_type": "code",
   "execution_count": 53,
   "id": "bace9836-9780-4ab8-972e-2b120e057eca",
   "metadata": {},
   "outputs": [
    {
     "data": {
      "text/plain": [
       "array([[1., 0., 0., 0.],\n",
       "       [0., 1., 0., 0.],\n",
       "       [0., 0., 1., 0.],\n",
       "       [0., 0., 0., 1.]])"
      ]
     },
     "execution_count": 53,
     "metadata": {},
     "output_type": "execute_result"
    }
   ],
   "source": [
    "np.eye(4)"
   ]
  },
  {
   "cell_type": "code",
   "execution_count": 6,
   "id": "feabc567",
   "metadata": {
    "scrolled": true
   },
   "outputs": [
    {
     "data": {
      "text/plain": [
       "array([[1., 0., 0., 0.],\n",
       "       [0., 1., 0., 0.],\n",
       "       [0., 0., 1., 0.],\n",
       "       [0., 0., 0., 1.]])"
      ]
     },
     "execution_count": 6,
     "metadata": {},
     "output_type": "execute_result"
    }
   ],
   "source": []
  },
  {
   "cell_type": "markdown",
   "id": "3cd908c2",
   "metadata": {},
   "source": [
    "### Create a diagonal matrix contains [2,4,5,11] numbers in its diagonal."
   ]
  },
  {
   "cell_type": "code",
   "execution_count": 54,
   "id": "08dfcdf6-e4cb-42b1-96cc-3585b81501ed",
   "metadata": {},
   "outputs": [
    {
     "data": {
      "text/plain": [
       "array([[ 2,  0,  0,  0],\n",
       "       [ 0,  4,  0,  0],\n",
       "       [ 0,  0,  5,  0],\n",
       "       [ 0,  0,  0, 11]])"
      ]
     },
     "execution_count": 54,
     "metadata": {},
     "output_type": "execute_result"
    }
   ],
   "source": [
    "diagonal_elements = [2, 4, 5, 11]\n",
    "np.diag(diagonal_elements)"
   ]
  },
  {
   "cell_type": "code",
   "execution_count": 37,
   "id": "c622a921",
   "metadata": {},
   "outputs": [
    {
     "data": {
      "text/plain": [
       "array([[ 2,  0,  0,  0],\n",
       "       [ 0,  4,  0,  0],\n",
       "       [ 0,  0,  5,  0],\n",
       "       [ 0,  0,  0, 11]])"
      ]
     },
     "execution_count": 37,
     "metadata": {},
     "output_type": "execute_result"
    }
   ],
   "source": []
  },
  {
   "cell_type": "markdown",
   "id": "7b39f0ce",
   "metadata": {},
   "source": [
    "### Create a 5 by 5 scalar matrix of number 7"
   ]
  },
  {
   "cell_type": "code",
   "execution_count": 56,
   "id": "78d20def-cd79-4896-8cf8-a234ab288d8c",
   "metadata": {},
   "outputs": [
    {
     "data": {
      "text/plain": [
       "array([[7, 0, 0, 0, 0],\n",
       "       [0, 7, 0, 0, 0],\n",
       "       [0, 0, 7, 0, 0],\n",
       "       [0, 0, 0, 7, 0],\n",
       "       [0, 0, 0, 0, 7]])"
      ]
     },
     "execution_count": 56,
     "metadata": {},
     "output_type": "execute_result"
    }
   ],
   "source": [
    "np.diag([7] * 5)"
   ]
  },
  {
   "cell_type": "code",
   "execution_count": 38,
   "id": "3bc1166e",
   "metadata": {},
   "outputs": [
    {
     "data": {
      "text/plain": [
       "array([[7., 0., 0., 0., 0.],\n",
       "       [0., 7., 0., 0., 0.],\n",
       "       [0., 0., 7., 0., 0.],\n",
       "       [0., 0., 0., 7., 0.],\n",
       "       [0., 0., 0., 0., 7.]])"
      ]
     },
     "execution_count": 38,
     "metadata": {},
     "output_type": "execute_result"
    }
   ],
   "source": []
  },
  {
   "cell_type": "markdown",
   "id": "71946845",
   "metadata": {},
   "source": [
    "### Using SymPy get the rref of the following matrices"
   ]
  },
  {
   "cell_type": "code",
   "execution_count": 58,
   "id": "2cba1857-6fc0-4361-b51a-4839892280a6",
   "metadata": {},
   "outputs": [
    {
     "name": "stdout",
     "output_type": "stream",
     "text": [
      "Collecting sympyNote: you may need to restart the kernel to use updated packages.\n"
     ]
    },
    {
     "name": "stderr",
     "output_type": "stream",
     "text": [
      "\n",
      "[notice] A new release of pip available: 22.3.1 -> 23.3.1\n",
      "[notice] To update, run: C:\\Users\\HP\\AppData\\Local\\Programs\\Python\\Python311\\python.exe -m pip install --upgrade pip\n"
     ]
    },
    {
     "name": "stdout",
     "output_type": "stream",
     "text": [
      "\n",
      "  Downloading sympy-1.12-py3-none-any.whl (5.7 MB)\n",
      "     ---------------------------------------- 5.7/5.7 MB 409.4 kB/s eta 0:00:00\n",
      "Collecting mpmath>=0.19\n",
      "  Downloading mpmath-1.3.0-py3-none-any.whl (536 kB)\n",
      "     ------------------------------------ 536.2/536.2 kB 267.1 kB/s eta 0:00:00\n",
      "Installing collected packages: mpmath, sympy\n",
      "Successfully installed mpmath-1.3.0 sympy-1.12\n"
     ]
    }
   ],
   "source": [
    "pip install sympy"
   ]
  },
  {
   "cell_type": "code",
   "execution_count": 59,
   "id": "1efa8928-bad0-45e2-88d2-3df913dc7110",
   "metadata": {},
   "outputs": [],
   "source": [
    "from sympy import Matrix"
   ]
  },
  {
   "cell_type": "code",
   "execution_count": 62,
   "id": "a03d0a4c-3a66-4b8d-9232-84ba4c60b9e7",
   "metadata": {},
   "outputs": [],
   "source": [
    "matrix = Matrix([\n",
    "    [1, 0, 1, 3],\n",
    "    [2, 3, 4, 7],\n",
    "    [-1, -3, -3, -4]\n",
    "])"
   ]
  },
  {
   "cell_type": "code",
   "execution_count": 63,
   "id": "994be2af-516c-4c0c-ad97-10de4ebf9d4d",
   "metadata": {},
   "outputs": [
    {
     "data": {
      "text/latex": [
       "$\\displaystyle \\left[\\begin{matrix}1 & 0 & 1 & 3\\\\2 & 3 & 4 & 7\\\\-1 & -3 & -3 & -4\\end{matrix}\\right]$"
      ],
      "text/plain": [
       "Matrix([\n",
       "[ 1,  0,  1,  3],\n",
       "[ 2,  3,  4,  7],\n",
       "[-1, -3, -3, -4]])"
      ]
     },
     "execution_count": 63,
     "metadata": {},
     "output_type": "execute_result"
    }
   ],
   "source": [
    "matrix"
   ]
  },
  {
   "cell_type": "code",
   "execution_count": 16,
   "id": "3890b9a0",
   "metadata": {
    "scrolled": true
   },
   "outputs": [
    {
     "data": {
      "text/latex": [
       "$\\displaystyle \\left[\\begin{matrix}1 & 0 & 1 & 3\\\\2 & 3 & 4 & 7\\\\-1 & -3 & -3 & -4\\end{matrix}\\right]$"
      ],
      "text/plain": [
       "Matrix([\n",
       "[ 1,  0,  1,  3],\n",
       "[ 2,  3,  4,  7],\n",
       "[-1, -3, -3, -4]])"
      ]
     },
     "execution_count": 16,
     "metadata": {},
     "output_type": "execute_result"
    }
   ],
   "source": []
  },
  {
   "cell_type": "code",
   "execution_count": null,
   "id": "5328c358-d56d-487c-8654-5d7c3e5dcfc0",
   "metadata": {},
   "outputs": [],
   "source": []
  },
  {
   "cell_type": "code",
   "execution_count": 111,
   "id": "a0d630f2-2abf-417d-a9e0-8c86493b5780",
   "metadata": {},
   "outputs": [
    {
     "name": "stdout",
     "output_type": "stream",
     "text": [
      "Original Matrix:\n",
      "Matrix([[1, 2, 3], [2, -1, 1], [3, 0, -1]])\n",
      "\n",
      "Reduced Row-Echelon Form (rref):\n",
      "Matrix([[1, 0, 0, 3], [0, 1, 0, 2], [0, 0, 1, 1]])\n",
      "\n",
      "Pivot Columns:\n",
      "(0, 1, 2)\n"
     ]
    }
   ],
   "source": [
    "matrix = Matrix([\n",
    "    [1, 2, 3],\n",
    "    [2, -1, 1],\n",
    "    [3,0,-1]\n",
    "])\n",
    "\n",
    "\n",
    "print(\"Original Matrix:\")\n",
    "print(matrix)\n",
    "\n",
    "print(\"Reduced Row-Echelon Form (rref):\")\n",
    "print(rref_matrix)\n",
    "\n",
    "print(\"Pivot Columns:\")\n",
    "print(pivot_columns)"
   ]
  },
  {
   "cell_type": "code",
   "execution_count": null,
   "id": "259fa32f-cbfe-4a1c-8388-c69fa4c2e3f1",
   "metadata": {},
   "outputs": [],
   "source": []
  },
  {
   "cell_type": "code",
   "execution_count": null,
   "id": "91ebd0ba-6a43-4fa1-8922-7fec0d00174e",
   "metadata": {},
   "outputs": [],
   "source": []
  },
  {
   "cell_type": "code",
   "execution_count": 70,
   "id": "b8dc02dc-b5db-482d-bd36-2ee0958e41e9",
   "metadata": {},
   "outputs": [],
   "source": [
    "matrix = Matrix([\n",
    "    [1, 2, 3],\n",
    "    [2, -1, 1],\n",
    "    [3,0,-1]\n",
    "])"
   ]
  },
  {
   "cell_type": "code",
   "execution_count": 71,
   "id": "c5008196-4b26-44af-8c7d-5008d950263a",
   "metadata": {},
   "outputs": [
    {
     "data": {
      "text/latex": [
       "$\\displaystyle \\left[\\begin{matrix}1 & 2 & 3\\\\2 & -1 & 1\\\\3 & 0 & -1\\end{matrix}\\right]$"
      ],
      "text/plain": [
       "Matrix([\n",
       "[1,  2,  3],\n",
       "[2, -1,  1],\n",
       "[3,  0, -1]])"
      ]
     },
     "execution_count": 71,
     "metadata": {},
     "output_type": "execute_result"
    }
   ],
   "source": [
    "matrix"
   ]
  },
  {
   "cell_type": "code",
   "execution_count": 77,
   "id": "62cafa6b-b5c7-4a04-b133-4eac5c364def",
   "metadata": {},
   "outputs": [
    {
     "data": {
      "text/plain": [
       "(Matrix([\n",
       " [1, 0, 0],\n",
       " [0, 1, 0],\n",
       " [0, 0, 1]]),\n",
       " (0, 1, 2))"
      ]
     },
     "execution_count": 77,
     "metadata": {},
     "output_type": "execute_result"
    }
   ],
   "source": [
    "matrix.rref()"
   ]
  },
  {
   "cell_type": "code",
   "execution_count": 26,
   "id": "a20bb9c5",
   "metadata": {},
   "outputs": [
    {
     "data": {
      "text/latex": [
       "$\\displaystyle \\left[\\begin{matrix}1 & 2 & 3\\\\2 & -1 & 1\\\\3 & 0 & -1\\end{matrix}\\right]$"
      ],
      "text/plain": [
       "Matrix([\n",
       "[1,  2,  3],\n",
       "[2, -1,  1],\n",
       "[3,  0, -1]])"
      ]
     },
     "execution_count": 26,
     "metadata": {},
     "output_type": "execute_result"
    }
   ],
   "source": []
  },
  {
   "cell_type": "code",
   "execution_count": 40,
   "id": "0c2fd90d",
   "metadata": {},
   "outputs": [],
   "source": []
  },
  {
   "cell_type": "code",
   "execution_count": 41,
   "id": "b95001b8",
   "metadata": {},
   "outputs": [
    {
     "data": {
      "text/latex": [
       "$\\displaystyle \\left[\\begin{matrix}1 & 0 & 1 & 3\\\\2 & 3 & 4 & 7\\\\-1 & -3 & -3 & -4\\end{matrix}\\right]$"
      ],
      "text/plain": [
       "Matrix([\n",
       "[ 1,  0,  1,  3],\n",
       "[ 2,  3,  4,  7],\n",
       "[-1, -3, -3, -4]])"
      ]
     },
     "execution_count": 41,
     "metadata": {},
     "output_type": "execute_result"
    }
   ],
   "source": []
  },
  {
   "cell_type": "code",
   "execution_count": 42,
   "id": "d83b2913",
   "metadata": {},
   "outputs": [
    {
     "data": {
      "text/plain": [
       "(Matrix([\n",
       " [1, 0,   1,   3],\n",
       " [0, 1, 2/3, 1/3],\n",
       " [0, 0,   0,   0]]),\n",
       " (0, 1))"
      ]
     },
     "execution_count": 42,
     "metadata": {},
     "output_type": "execute_result"
    }
   ],
   "source": []
  },
  {
   "cell_type": "code",
   "execution_count": 43,
   "id": "d272eef4",
   "metadata": {},
   "outputs": [
    {
     "data": {
      "text/latex": [
       "$\\displaystyle \\left[\\begin{matrix}1 & 1 & 1\\\\1 & 2 & 2\\\\1 & 2 & 3\\end{matrix}\\right]$"
      ],
      "text/plain": [
       "Matrix([\n",
       "[1, 1, 1],\n",
       "[1, 2, 2],\n",
       "[1, 2, 3]])"
      ]
     },
     "execution_count": 43,
     "metadata": {},
     "output_type": "execute_result"
    }
   ],
   "source": []
  },
  {
   "cell_type": "code",
   "execution_count": 44,
   "id": "c05a3272",
   "metadata": {},
   "outputs": [
    {
     "data": {
      "text/plain": [
       "(Matrix([\n",
       " [1, 0, 0],\n",
       " [0, 1, 0],\n",
       " [0, 0, 1]]),\n",
       " (0, 1, 2))"
      ]
     },
     "execution_count": 44,
     "metadata": {},
     "output_type": "execute_result"
    }
   ],
   "source": []
  },
  {
   "cell_type": "code",
   "execution_count": 45,
   "id": "12c3f8c7",
   "metadata": {},
   "outputs": [
    {
     "data": {
      "text/latex": [
       "$\\displaystyle \\left[\\begin{matrix}1 & 2 & 3\\\\2 & -1 & 1\\\\3 & 0 & -1\\end{matrix}\\right]$"
      ],
      "text/plain": [
       "Matrix([\n",
       "[1,  2,  3],\n",
       "[2, -1,  1],\n",
       "[3,  0, -1]])"
      ]
     },
     "execution_count": 45,
     "metadata": {},
     "output_type": "execute_result"
    }
   ],
   "source": []
  },
  {
   "cell_type": "code",
   "execution_count": 46,
   "id": "3e017709",
   "metadata": {},
   "outputs": [
    {
     "data": {
      "text/plain": [
       "(Matrix([\n",
       " [1, 0, 0],\n",
       " [0, 1, 0],\n",
       " [0, 0, 1]]),\n",
       " (0, 1, 2))"
      ]
     },
     "execution_count": 46,
     "metadata": {},
     "output_type": "execute_result"
    }
   ],
   "source": []
  },
  {
   "cell_type": "markdown",
   "id": "bbeff11d",
   "metadata": {},
   "source": [
    "### Find the solution of the following system of linear equation using SymPy Matrix rref()\n",
    "#### Write down the solution as a python note e.g., x=1, y=4, and z=10"
   ]
  },
  {
   "cell_type": "markdown",
   "id": "61dcc75c",
   "metadata": {},
   "source": [
    "1. $$x+y+z=6$$  $$x+2y+2z=9$$  $$x+2y+3z=10$$ \n",
    "$$$$\n",
    "2. $$x+2y+3z=9$$  $$2x-y+z=8$$  $$3x-z=3$$ "
   ]
  },
  {
   "cell_type": "code",
   "execution_count": null,
   "id": "0577c02c-f60e-4c50-bd56-237df46de371",
   "metadata": {},
   "outputs": [],
   "source": []
  },
  {
   "cell_type": "code",
   "execution_count": null,
   "id": "e85e6224-5287-40ce-82e8-805e942cecd0",
   "metadata": {},
   "outputs": [],
   "source": []
  },
  {
   "cell_type": "code",
   "execution_count": 83,
   "id": "4aa23f73-0070-426b-9919-1d40af10b242",
   "metadata": {},
   "outputs": [
    {
     "data": {
      "text/latex": [
       "$\\displaystyle \\left[\\begin{matrix}1 & 1 & 1 & 6\\\\1 & 2 & 2 & 9\\\\1 & 2 & 3 & 10\\end{matrix}\\right]$"
      ],
      "text/plain": [
       "Matrix([\n",
       "[1, 1, 1,  6],\n",
       "[1, 2, 2,  9],\n",
       "[1, 2, 3, 10]])"
      ]
     },
     "execution_count": 83,
     "metadata": {},
     "output_type": "execute_result"
    }
   ],
   "source": [
    "matrix = Matrix([\n",
    "    [1, 1, 1, 6],\n",
    "    [1, 2, 2, 9],\n",
    "    [1, 2, 3, 10]\n",
    "])\n",
    "matrix"
   ]
  },
  {
   "cell_type": "code",
   "execution_count": 28,
   "id": "5b44f38e",
   "metadata": {},
   "outputs": [
    {
     "data": {
      "text/latex": [
       "$\\displaystyle \\left[\\begin{matrix}1 & 1 & 1 & 6\\\\1 & 2 & 2 & 9\\\\1 & 2 & 3 & 10\\end{matrix}\\right]$"
      ],
      "text/plain": [
       "Matrix([\n",
       "[1, 1, 1,  6],\n",
       "[1, 2, 2,  9],\n",
       "[1, 2, 3, 10]])"
      ]
     },
     "execution_count": 28,
     "metadata": {},
     "output_type": "execute_result"
    }
   ],
   "source": []
  },
  {
   "cell_type": "code",
   "execution_count": null,
   "id": "c33615e3-4338-4222-b6fb-6f5e146bb974",
   "metadata": {},
   "outputs": [],
   "source": []
  },
  {
   "cell_type": "code",
   "execution_count": 84,
   "id": "1ab1b54b-500e-4b6c-a1df-5f57b0cf5156",
   "metadata": {},
   "outputs": [
    {
     "data": {
      "text/plain": [
       "(Matrix([\n",
       " [1, 0, 0, 3],\n",
       " [0, 1, 0, 2],\n",
       " [0, 0, 1, 1]]),\n",
       " (0, 1, 2))"
      ]
     },
     "execution_count": 84,
     "metadata": {},
     "output_type": "execute_result"
    }
   ],
   "source": [
    "matrix.rref()"
   ]
  },
  {
   "cell_type": "code",
   "execution_count": null,
   "id": "034b7f70-9b4f-49d8-9ed8-3ae5e71ccb96",
   "metadata": {},
   "outputs": [],
   "source": [
    "z=1,y=2,x=3"
   ]
  },
  {
   "cell_type": "code",
   "execution_count": 30,
   "id": "92c73f88",
   "metadata": {},
   "outputs": [
    {
     "data": {
      "text/plain": [
       "(Matrix([\n",
       " [1, 0, 0, 3],\n",
       " [0, 1, 0, 2],\n",
       " [0, 0, 1, 1]]),\n",
       " (0, 1, 2))"
      ]
     },
     "execution_count": 30,
     "metadata": {},
     "output_type": "execute_result"
    }
   ],
   "source": []
  },
  {
   "cell_type": "code",
   "execution_count": 86,
   "id": "af86460d-b851-41a0-b2d4-1812b9b502fa",
   "metadata": {},
   "outputs": [
    {
     "data": {
      "text/latex": [
       "$\\displaystyle \\left[\\begin{matrix}1 & 2 & 3 & 9\\\\2 & -1 & 1 & 8\\\\3 & 0 & -1 & 3\\end{matrix}\\right]$"
      ],
      "text/plain": [
       "Matrix([\n",
       "[1,  2,  3, 9],\n",
       "[2, -1,  1, 8],\n",
       "[3,  0, -1, 3]])"
      ]
     },
     "execution_count": 86,
     "metadata": {},
     "output_type": "execute_result"
    }
   ],
   "source": [
    "matrix = Matrix([\n",
    "    [1, 2, 3, 9],\n",
    "    [2, -1, 1, 8],\n",
    "    [3, 0, -1, 3]\n",
    "])\n",
    "matrix"
   ]
  },
  {
   "cell_type": "code",
   "execution_count": 31,
   "id": "cca5716e",
   "metadata": {},
   "outputs": [
    {
     "data": {
      "text/latex": [
       "$\\displaystyle \\left[\\begin{matrix}1 & 2 & 3 & 9\\\\2 & -1 & 1 & 8\\\\3 & 0 & -1 & 3\\end{matrix}\\right]$"
      ],
      "text/plain": [
       "Matrix([\n",
       "[1,  2,  3, 9],\n",
       "[2, -1,  1, 8],\n",
       "[3,  0, -1, 3]])"
      ]
     },
     "execution_count": 31,
     "metadata": {},
     "output_type": "execute_result"
    }
   ],
   "source": []
  },
  {
   "cell_type": "code",
   "execution_count": 87,
   "id": "adc89723-121e-4a6f-8ad2-7520f8c9e78c",
   "metadata": {},
   "outputs": [
    {
     "data": {
      "text/plain": [
       "(Matrix([\n",
       " [1, 0, 0,  2],\n",
       " [0, 1, 0, -1],\n",
       " [0, 0, 1,  3]]),\n",
       " (0, 1, 2))"
      ]
     },
     "execution_count": 87,
     "metadata": {},
     "output_type": "execute_result"
    }
   ],
   "source": [
    "matrix.rref()"
   ]
  },
  {
   "cell_type": "code",
   "execution_count": null,
   "id": "3d19f025-7dcb-44d4-b372-09a26a2b11d3",
   "metadata": {},
   "outputs": [],
   "source": [
    "z=3,y=-1,x=2"
   ]
  },
  {
   "cell_type": "code",
   "execution_count": null,
   "id": "872ff9e7-af27-4b71-964a-1d67771d98bc",
   "metadata": {},
   "outputs": [],
   "source": []
  },
  {
   "cell_type": "code",
   "execution_count": 32,
   "id": "9360b021",
   "metadata": {},
   "outputs": [
    {
     "data": {
      "text/plain": [
       "(Matrix([\n",
       " [1, 0, 0,  2],\n",
       " [0, 1, 0, -1],\n",
       " [0, 0, 1,  3]]),\n",
       " (0, 1, 2))"
      ]
     },
     "execution_count": 32,
     "metadata": {},
     "output_type": "execute_result"
    }
   ],
   "source": []
  },
  {
   "cell_type": "code",
   "execution_count": 107,
   "id": "5777ba93-26cd-4ca4-8285-3f306eef90ce",
   "metadata": {},
   "outputs": [],
   "source": [
    "r=matrix.rref()"
   ]
  },
  {
   "cell_type": "code",
   "execution_count": null,
   "id": "8837ad2d-c5aa-4b11-a5db-5212d33b4bfe",
   "metadata": {},
   "outputs": [],
   "source": [
    "x=1,y=-1,z=3"
   ]
  },
  {
   "cell_type": "code",
   "execution_count": null,
   "id": "63434c48-4d6c-4dbd-8277-e3d9a74b2e76",
   "metadata": {},
   "outputs": [],
   "source": []
  },
  {
   "cell_type": "markdown",
   "id": "78429ec9",
   "metadata": {},
   "source": [
    "### Find the solution of the following system of linear equation using SymPy Matrix rref()\n",
    "#### Write down the solution as a python note e.g., x=1, y=4, and z=10"
   ]
  },
  {
   "cell_type": "markdown",
   "id": "48df16ae",
   "metadata": {},
   "source": [
    "1. $$x-2y=1$$ $$3x-6y=11 $$\n",
    "$$$$\n",
    "2. $$x-2y=1$$ $$3x-6y=3 $$\n",
    "$$$$\n",
    "3. $$x+2y+3z=6$$  $$2x+5y+2z=4$$  $$6x-3y+z=2$$ \n",
    "$$$$\n",
    "4. $$2x+4y-2z=2$$  $$4x+9y-3z=8$$  $$-2x-3y+7z=10$$ "
   ]
  },
  {
   "cell_type": "code",
   "execution_count": 89,
   "id": "b4e2d249-49f9-4e9a-bc09-4aaa99e4c440",
   "metadata": {},
   "outputs": [
    {
     "data": {
      "text/latex": [
       "$\\displaystyle \\left[\\begin{matrix}1 & -2 & 1\\\\3 & -6 & 11\\end{matrix}\\right]$"
      ],
      "text/plain": [
       "Matrix([\n",
       "[1, -2,  1],\n",
       "[3, -6, 11]])"
      ]
     },
     "execution_count": 89,
     "metadata": {},
     "output_type": "execute_result"
    }
   ],
   "source": [
    "matrix = Matrix([\n",
    "    [1, -2, 1],\n",
    "    [3, -6, 11],\n",
    "   ])\n",
    "matrix"
   ]
  },
  {
   "cell_type": "code",
   "execution_count": null,
   "id": "de94915a-8377-45cc-b035-ace0002ae967",
   "metadata": {},
   "outputs": [],
   "source": []
  },
  {
   "cell_type": "code",
   "execution_count": 6,
   "id": "43cb6368",
   "metadata": {},
   "outputs": [
    {
     "data": {
      "text/latex": [
       "$\\displaystyle \\left[\\begin{matrix}1 & -2 & 1\\\\3 & -6 & 11\\end{matrix}\\right]$"
      ],
      "text/plain": [
       "Matrix([\n",
       "[1, -2,  1],\n",
       "[3, -6, 11]])"
      ]
     },
     "execution_count": 6,
     "metadata": {},
     "output_type": "execute_result"
    }
   ],
   "source": []
  },
  {
   "cell_type": "code",
   "execution_count": 90,
   "id": "0c3dad55-cdcb-44b4-ac27-8ed0a51eb802",
   "metadata": {},
   "outputs": [
    {
     "data": {
      "text/plain": [
       "(Matrix([\n",
       " [1, -2, 0],\n",
       " [0,  0, 1]]),\n",
       " (0, 2))"
      ]
     },
     "execution_count": 90,
     "metadata": {},
     "output_type": "execute_result"
    }
   ],
   "source": [
    "matrix.rref()"
   ]
  },
  {
   "cell_type": "code",
   "execution_count": null,
   "id": "24da3f5e-da71-4f2c-bb24-fadd62e794ad",
   "metadata": {},
   "outputs": [],
   "source": [
    "#inconsistent solution"
   ]
  },
  {
   "cell_type": "code",
   "execution_count": null,
   "id": "9aa231e7-de41-43ea-9a03-e2bb2cd5e910",
   "metadata": {},
   "outputs": [],
   "source": []
  },
  {
   "cell_type": "code",
   "execution_count": 7,
   "id": "d1af10bc",
   "metadata": {},
   "outputs": [
    {
     "data": {
      "text/plain": [
       "(Matrix([\n",
       " [1, -2, 0],\n",
       " [0,  0, 1]]),\n",
       " (0, 2))"
      ]
     },
     "execution_count": 7,
     "metadata": {},
     "output_type": "execute_result"
    }
   ],
   "source": []
  },
  {
   "cell_type": "code",
   "execution_count": null,
   "id": "e8422222-5130-4781-9e49-d3a7ce298eb5",
   "metadata": {},
   "outputs": [],
   "source": []
  },
  {
   "cell_type": "code",
   "execution_count": null,
   "id": "2bf62c0b-d8a2-41a3-955a-6d8ec9e57b96",
   "metadata": {},
   "outputs": [],
   "source": []
  },
  {
   "cell_type": "code",
   "execution_count": 91,
   "id": "f1c082c8-a756-4f87-86ae-6546138a5ff1",
   "metadata": {},
   "outputs": [
    {
     "data": {
      "text/latex": [
       "$\\displaystyle \\left[\\begin{matrix}1 & -2 & 1\\\\3 & -6 & 3\\end{matrix}\\right]$"
      ],
      "text/plain": [
       "Matrix([\n",
       "[1, -2, 1],\n",
       "[3, -6, 3]])"
      ]
     },
     "execution_count": 91,
     "metadata": {},
     "output_type": "execute_result"
    }
   ],
   "source": [
    "matrix = Matrix([\n",
    "    [1, -2, 1],\n",
    "    [3, -6, 3],\n",
    "   ])\n",
    "matrix"
   ]
  },
  {
   "cell_type": "code",
   "execution_count": 35,
   "id": "c279c860",
   "metadata": {},
   "outputs": [
    {
     "data": {
      "text/latex": [
       "$\\displaystyle \\left[\\begin{matrix}1 & -2 & 1\\\\3 & -6 & 3\\end{matrix}\\right]$"
      ],
      "text/plain": [
       "Matrix([\n",
       "[1, -2, 1],\n",
       "[3, -6, 3]])"
      ]
     },
     "execution_count": 35,
     "metadata": {},
     "output_type": "execute_result"
    }
   ],
   "source": []
  },
  {
   "cell_type": "code",
   "execution_count": 92,
   "id": "5fdb2f84-8847-4761-b122-9f1b677418e0",
   "metadata": {},
   "outputs": [
    {
     "data": {
      "text/plain": [
       "(Matrix([\n",
       " [1, -2, 1],\n",
       " [0,  0, 0]]),\n",
       " (0,))"
      ]
     },
     "execution_count": 92,
     "metadata": {},
     "output_type": "execute_result"
    }
   ],
   "source": [
    "matrix.rref()"
   ]
  },
  {
   "cell_type": "code",
   "execution_count": null,
   "id": "fe3311e7-f488-4dec-8cd9-fdf10a403271",
   "metadata": {},
   "outputs": [],
   "source": [
    "#infinite number of solutions"
   ]
  },
  {
   "cell_type": "code",
   "execution_count": null,
   "id": "9b4796b9-e278-486d-999d-ae7e1e97069e",
   "metadata": {},
   "outputs": [],
   "source": []
  },
  {
   "cell_type": "code",
   "execution_count": 36,
   "id": "24e71492",
   "metadata": {},
   "outputs": [
    {
     "data": {
      "text/plain": [
       "(Matrix([\n",
       " [1, -2, 1],\n",
       " [0,  0, 0]]),\n",
       " (0,))"
      ]
     },
     "execution_count": 36,
     "metadata": {},
     "output_type": "execute_result"
    }
   ],
   "source": []
  },
  {
   "cell_type": "code",
   "execution_count": 189,
   "id": "15e5756b-8db1-4a30-84e5-051bc10a549e",
   "metadata": {},
   "outputs": [
    {
     "data": {
      "text/latex": [
       "$\\displaystyle \\left[\\begin{matrix}1 & 2 & 3 & 6\\\\2 & 5 & 2 & 4\\\\6 & -3 & 1 & 2\\end{matrix}\\right]$"
      ],
      "text/plain": [
       "Matrix([\n",
       "[1,  2, 3, 6],\n",
       "[2,  5, 2, 4],\n",
       "[6, -3, 1, 2]])"
      ]
     },
     "execution_count": 189,
     "metadata": {},
     "output_type": "execute_result"
    }
   ],
   "source": [
    "matrix = Matrix([\n",
    "    [1, 2, 3, 6],\n",
    "    [2, 5, 2, 4],\n",
    "    [6, -3, 1, 2],\n",
    "   ])\n",
    "matrix"
   ]
  },
  {
   "cell_type": "code",
   "execution_count": 37,
   "id": "0bd4ec36",
   "metadata": {},
   "outputs": [
    {
     "data": {
      "text/latex": [
       "$\\displaystyle \\left[\\begin{matrix}1 & 2 & 3 & 6\\\\2 & 5 & 2 & 4\\\\6 & -3 & 1 & 2\\end{matrix}\\right]$"
      ],
      "text/plain": [
       "Matrix([\n",
       "[1,  2, 3, 6],\n",
       "[2,  5, 2, 4],\n",
       "[6, -3, 1, 2]])"
      ]
     },
     "execution_count": 37,
     "metadata": {},
     "output_type": "execute_result"
    }
   ],
   "source": []
  },
  {
   "cell_type": "code",
   "execution_count": 190,
   "id": "a16d70b0-8bd2-4823-aac6-f8c652d0d4cf",
   "metadata": {},
   "outputs": [
    {
     "data": {
      "text/plain": [
       "(Matrix([\n",
       " [1, 0, 0, 0],\n",
       " [0, 1, 0, 0],\n",
       " [0, 0, 1, 2]]),\n",
       " (0, 1, 2))"
      ]
     },
     "execution_count": 190,
     "metadata": {},
     "output_type": "execute_result"
    }
   ],
   "source": [
    "matrix.rref()"
   ]
  },
  {
   "cell_type": "code",
   "execution_count": null,
   "id": "7a05ec73-a204-4722-8e3e-242c4831ba31",
   "metadata": {},
   "outputs": [],
   "source": [
    "z=2,y=0,x=0"
   ]
  },
  {
   "cell_type": "code",
   "execution_count": 38,
   "id": "cda3bcc0",
   "metadata": {},
   "outputs": [
    {
     "data": {
      "text/plain": [
       "(Matrix([\n",
       " [1, 0, 0, 0],\n",
       " [0, 1, 0, 0],\n",
       " [0, 0, 1, 2]]),\n",
       " (0, 1, 2))"
      ]
     },
     "execution_count": 38,
     "metadata": {},
     "output_type": "execute_result"
    }
   ],
   "source": []
  },
  {
   "cell_type": "code",
   "execution_count": 99,
   "id": "845de4eb-d0a7-4637-8c49-5608a32050a7",
   "metadata": {},
   "outputs": [
    {
     "data": {
      "text/latex": [
       "$\\displaystyle \\left[\\begin{matrix}2 & 4 & -2 & 2\\\\4 & 9 & -3 & 8\\\\-2 & -3 & 7 & 10\\end{matrix}\\right]$"
      ],
      "text/plain": [
       "Matrix([\n",
       "[ 2,  4, -2,  2],\n",
       "[ 4,  9, -3,  8],\n",
       "[-2, -3,  7, 10]])"
      ]
     },
     "execution_count": 99,
     "metadata": {},
     "output_type": "execute_result"
    }
   ],
   "source": [
    "matrix = Matrix([\n",
    "    [2, 4, -2, 2],\n",
    "    [4, 9, -3, 8],\n",
    "    [-2, -3, 7, 10],\n",
    "   ])\n",
    "matrix"
   ]
  },
  {
   "cell_type": "code",
   "execution_count": 39,
   "id": "e996abd6",
   "metadata": {},
   "outputs": [
    {
     "data": {
      "text/latex": [
       "$\\displaystyle \\left[\\begin{matrix}2 & 4 & -2 & 2\\\\4 & 9 & -3 & 8\\\\-2 & -3 & 7 & 10\\end{matrix}\\right]$"
      ],
      "text/plain": [
       "Matrix([\n",
       "[ 2,  4, -2,  2],\n",
       "[ 4,  9, -3,  8],\n",
       "[-2, -3,  7, 10]])"
      ]
     },
     "execution_count": 39,
     "metadata": {},
     "output_type": "execute_result"
    }
   ],
   "source": []
  },
  {
   "cell_type": "code",
   "execution_count": 100,
   "id": "5b2f324a-4f8d-4785-b5d2-02d6c24bea18",
   "metadata": {},
   "outputs": [
    {
     "data": {
      "text/plain": [
       "(Matrix([\n",
       " [1, 0, 0, -1],\n",
       " [0, 1, 0,  2],\n",
       " [0, 0, 1,  2]]),\n",
       " (0, 1, 2))"
      ]
     },
     "execution_count": 100,
     "metadata": {},
     "output_type": "execute_result"
    }
   ],
   "source": [
    "matrix.rref()"
   ]
  },
  {
   "cell_type": "code",
   "execution_count": null,
   "id": "ec1fcd88-13d3-4c00-8912-33dd130be27a",
   "metadata": {},
   "outputs": [],
   "source": [
    "z=2,y=2,x=-1"
   ]
  },
  {
   "cell_type": "code",
   "execution_count": 40,
   "id": "dbe22672",
   "metadata": {},
   "outputs": [
    {
     "data": {
      "text/plain": [
       "(Matrix([\n",
       " [1, 0, 0, -1],\n",
       " [0, 1, 0,  2],\n",
       " [0, 0, 1,  2]]),\n",
       " (0, 1, 2))"
      ]
     },
     "execution_count": 40,
     "metadata": {},
     "output_type": "execute_result"
    }
   ],
   "source": []
  },
  {
   "cell_type": "code",
   "execution_count": 187,
   "id": "1d61450e-62b7-4cef-9077-ada4d4fbc1eb",
   "metadata": {},
   "outputs": [],
   "source": [
    "r=matrix.rref()"
   ]
  },
  {
   "cell_type": "code",
   "execution_count": 188,
   "id": "560601b6-b183-4a59-b9da-5cc5e7cb2de7",
   "metadata": {},
   "outputs": [
    {
     "data": {
      "text/plain": [
       "(Matrix([\n",
       " [1, 0, 0],\n",
       " [0, 1, 0],\n",
       " [0, 0, 1]]),\n",
       " (0, 1, 2))"
      ]
     },
     "execution_count": 188,
     "metadata": {},
     "output_type": "execute_result"
    }
   ],
   "source": [
    "r"
   ]
  },
  {
   "cell_type": "code",
   "execution_count": null,
   "id": "d2a3975d-d241-443a-b801-709f35a0b008",
   "metadata": {},
   "outputs": [],
   "source": [
    "y"
   ]
  },
  {
   "cell_type": "code",
   "execution_count": null,
   "id": "2cf18ad3-fad9-4457-bc3d-351a5366439e",
   "metadata": {},
   "outputs": [],
   "source": []
  },
  {
   "cell_type": "code",
   "execution_count": 191,
   "id": "1ecd78cb-573e-47bd-ac30-e4341788bf1c",
   "metadata": {},
   "outputs": [
    {
     "data": {
      "text/latex": [
       "$\\displaystyle \\left[\\begin{matrix}1 & 2 & 3 & 6\\\\2 & 5 & 2 & 4\\\\6 & -3 & 1 & 2\\end{matrix}\\right]$"
      ],
      "text/plain": [
       "Matrix([\n",
       "[1,  2, 3, 6],\n",
       "[2,  5, 2, 4],\n",
       "[6, -3, 1, 2]])"
      ]
     },
     "execution_count": 191,
     "metadata": {},
     "output_type": "execute_result"
    }
   ],
   "source": [
    "m = Matrix([\n",
    "    [2, 4, -2, 2],\n",
    "    [4, 9, -3, 8],\n",
    "    [-2, -3, 7, 10],\n",
    "   ])\n",
    "matrix"
   ]
  },
  {
   "cell_type": "code",
   "execution_count": 192,
   "id": "8a189748",
   "metadata": {},
   "outputs": [
    {
     "data": {
      "text/plain": [
       "(Matrix([\n",
       " [1, 0, 0, 0],\n",
       " [0, 1, 0, 0],\n",
       " [0, 0, 1, 2]]),\n",
       " (0, 1, 2))"
      ]
     },
     "execution_count": 192,
     "metadata": {},
     "output_type": "execute_result"
    }
   ],
   "source": [
    "matrix.rref()"
   ]
  },
  {
   "cell_type": "code",
   "execution_count": null,
   "id": "ba18b803-e13f-47d7-a458-3c6714ad6153",
   "metadata": {},
   "outputs": [],
   "source": [
    "z=2,y=0,x=1"
   ]
  },
  {
   "cell_type": "code",
   "execution_count": 120,
   "id": "2f976ac3-6423-423a-8330-2f2a5aa0310a",
   "metadata": {},
   "outputs": [],
   "source": [
    "#HOMEWORK"
   ]
  },
  {
   "cell_type": "code",
   "execution_count": null,
   "id": "59284dbc-24f3-4623-96f8-0af9866d93fe",
   "metadata": {},
   "outputs": [],
   "source": []
  },
  {
   "cell_type": "code",
   "execution_count": null,
   "id": "df9268af-8406-44cd-bdf1-74d7de924769",
   "metadata": {},
   "outputs": [],
   "source": []
  },
  {
   "cell_type": "code",
   "execution_count": null,
   "id": "003fc583-eeae-4114-81c2-8aef00f8365b",
   "metadata": {},
   "outputs": [],
   "source": []
  },
  {
   "cell_type": "code",
   "execution_count": 109,
   "id": "5118d96f-2459-42f4-b73e-34a19e84ca5b",
   "metadata": {},
   "outputs": [],
   "source": [
    "A = np.array([[0, 1, 1],\n",
    "               [1, 0, 1],\n",
    "               [1, 1, 0]])\n"
   ]
  },
  {
   "cell_type": "code",
   "execution_count": 112,
   "id": "a2929025-91e4-440e-81a4-c42a2338ae1d",
   "metadata": {},
   "outputs": [],
   "source": [
    "B = np.array([[0, 2, 3],\n",
    "               [0, 5, 0],\n",
    "               [7, 0, 0]])"
   ]
  },
  {
   "cell_type": "code",
   "execution_count": 114,
   "id": "fdea5d58-8582-4e54-be0c-4a26fd97271d",
   "metadata": {},
   "outputs": [
    {
     "data": {
      "text/plain": [
       "array([[ 0,  4,  9],\n",
       "       [ 0, 25,  0],\n",
       "       [49,  0,  0]])"
      ]
     },
     "execution_count": 114,
     "metadata": {},
     "output_type": "execute_result"
    }
   ],
   "source": [
    "product = np.multiply(A, B)\n",
    "product "
   ]
  },
  {
   "cell_type": "code",
   "execution_count": 115,
   "id": "73c22efb-0442-4dbd-93b2-4049c547981d",
   "metadata": {},
   "outputs": [
    {
     "data": {
      "text/plain": [
       "array([[ 0,  4,  6],\n",
       "       [ 0, 10,  0],\n",
       "       [14,  0,  0]])"
      ]
     },
     "execution_count": 115,
     "metadata": {},
     "output_type": "execute_result"
    }
   ],
   "source": [
    "np.add(A, B)"
   ]
  },
  {
   "cell_type": "code",
   "execution_count": 116,
   "id": "685cd9e2-2fad-4955-80c4-9aee8fc8d1d9",
   "metadata": {},
   "outputs": [
    {
     "data": {
      "text/plain": [
       "array([[0, 0, 7],\n",
       "       [2, 5, 0],\n",
       "       [3, 0, 0]])"
      ]
     },
     "execution_count": 116,
     "metadata": {},
     "output_type": "execute_result"
    }
   ],
   "source": [
    "np.transpose(A)"
   ]
  },
  {
   "cell_type": "code",
   "execution_count": 117,
   "id": "1fbd8658-a006-4d83-976d-8152c6eef8dc",
   "metadata": {},
   "outputs": [
    {
     "data": {
      "text/plain": [
       "array([0, 5, 0])"
      ]
     },
     "execution_count": 117,
     "metadata": {},
     "output_type": "execute_result"
    }
   ],
   "source": [
    "A[1, :]"
   ]
  },
  {
   "cell_type": "code",
   "execution_count": 118,
   "id": "2c23d517-36ae-4351-90d0-2121f4ac57ca",
   "metadata": {},
   "outputs": [],
   "source": [
    "a = A[:, -1]\n",
    "b = B[-1, :]"
   ]
  },
  {
   "cell_type": "code",
   "execution_count": 119,
   "id": "e134cf76-f0b3-4c55-92cc-ae74c8bad16b",
   "metadata": {},
   "outputs": [
    {
     "data": {
      "text/plain": [
       "array([10,  0,  0])"
      ]
     },
     "execution_count": 119,
     "metadata": {},
     "output_type": "execute_result"
    }
   ],
   "source": [
    "np.add(a, b)"
   ]
  },
  {
   "cell_type": "code",
   "execution_count": null,
   "id": "04dca55a-ad41-4dd7-9fe3-bc521cc200ff",
   "metadata": {},
   "outputs": [],
   "source": []
  },
  {
   "cell_type": "code",
   "execution_count": null,
   "id": "7a44e53b-d0dd-4889-932c-1dfb461d6172",
   "metadata": {},
   "outputs": [],
   "source": []
  },
  {
   "cell_type": "code",
   "execution_count": 130,
   "id": "86473b08-fa8e-4598-9fb5-2de5b51003b7",
   "metadata": {},
   "outputs": [],
   "source": [
    "v = np.array([2, 4, 1])"
   ]
  },
  {
   "cell_type": "code",
   "execution_count": 131,
   "id": "9287ced5-760b-47ec-bf30-a846bfba382a",
   "metadata": {},
   "outputs": [],
   "source": [
    "u = np.array([1, 3, 5])"
   ]
  },
  {
   "cell_type": "code",
   "execution_count": 132,
   "id": "3b7222fa-d074-4d79-8847-b4b3d1779e77",
   "metadata": {},
   "outputs": [
    {
     "data": {
      "text/plain": [
       "19"
      ]
     },
     "execution_count": 132,
     "metadata": {},
     "output_type": "execute_result"
    }
   ],
   "source": [
    "dot_product = np.dot(v.T, u)\n",
    "dot_product"
   ]
  },
  {
   "cell_type": "code",
   "execution_count": null,
   "id": "42a8b154-20be-4f06-8af0-39286329facb",
   "metadata": {},
   "outputs": [],
   "source": []
  },
  {
   "cell_type": "code",
   "execution_count": 133,
   "id": "02baf64e-5b12-4f66-86ef-16110000b27f",
   "metadata": {},
   "outputs": [
    {
     "name": "stdout",
     "output_type": "stream",
     "text": [
      "L1 Norm: 7.0\n",
      "L2 Norm: 4.58257569495584\n",
      "L3 Norm: 4.179339196381232\n",
      "L4 Norm: 4.064813850824944\n",
      "Max Norm: 4.0\n"
     ]
    }
   ],
   "source": [
    "norm_L1_v = np.linalg.norm(v, ord=1)\n",
    "norm_L2_v = np.linalg.norm(v, ord=2)\n",
    "norm_L3_v = np.linalg.norm(v, ord=3)\n",
    "norm_L4_v = np.linalg.norm(v, ord=4)\n",
    "norm_max_v = np.linalg.norm(v, ord=np.inf)\n",
    "print(\"L1 Norm:\", norm_L1_v)\n",
    "print(\"L2 Norm:\", norm_L2_v)\n",
    "print(\"L3 Norm:\", norm_L3_v)\n",
    "print(\"L4 Norm:\", norm_L4_v)\n",
    "print(\"Max Norm:\", norm_max_v)"
   ]
  },
  {
   "cell_type": "code",
   "execution_count": null,
   "id": "7f150c44-ce06-4c58-85da-b8564a871d6c",
   "metadata": {},
   "outputs": [],
   "source": []
  },
  {
   "cell_type": "code",
   "execution_count": 136,
   "id": "47923f15-8812-4ee1-8cac-caa28d1b1910",
   "metadata": {},
   "outputs": [
    {
     "name": "stdout",
     "output_type": "stream",
     "text": [
      "u:\n",
      "L1 Norm: 9.0\n",
      "L2 Norm: 5.916079783099616\n",
      "L3 Norm: 5.348481241239363\n",
      "L4 Norm: 5.156497997732246\n",
      "Max Norm: 5.0\n"
     ]
    }
   ],
   "source": [
    "norm_L1_u = np.linalg.norm(u, ord=1)\n",
    "norm_L2_u = np.linalg.norm(u, ord=2)\n",
    "norm_L3_u = np.linalg.norm(u, ord=3)\n",
    "norm_L4_u = np.linalg.norm(u, ord=4)\n",
    "norm_max_u = np.linalg.norm(u, ord=np.inf)\n",
    "\n",
    "print(\"u:\")\n",
    "print(\"L1 Norm:\", norm_L1_u)\n",
    "print(\"L2 Norm:\", norm_L2_u)\n",
    "print(\"L3 Norm:\", norm_L3_u)\n",
    "print(\"L4 Norm:\", norm_L4_u)\n",
    "print(\"Max Norm:\", norm_max_u)"
   ]
  },
  {
   "cell_type": "code",
   "execution_count": 141,
   "id": "27998900-b5fd-4574-a3f4-c022fe4f7eaf",
   "metadata": {},
   "outputs": [],
   "source": [
    "sum_vector = v + u"
   ]
  },
  {
   "cell_type": "code",
   "execution_count": 143,
   "id": "9121db8b-1a5e-4b29-bc56-36913a13d67d",
   "metadata": {},
   "outputs": [
    {
     "name": "stdout",
     "output_type": "stream",
     "text": [
      "[3 7 6]\n"
     ]
    }
   ],
   "source": [
    "print(sum_vector)"
   ]
  },
  {
   "cell_type": "code",
   "execution_count": 138,
   "id": "d46d726f-00c7-4d8e-916a-ac0735eefed3",
   "metadata": {},
   "outputs": [],
   "source": [
    "norm_sum_vector = np.linalg.norm(sum_vector)"
   ]
  },
  {
   "cell_type": "code",
   "execution_count": 140,
   "id": "05d60963-a91f-4349-b440-09032c880cad",
   "metadata": {},
   "outputs": [
    {
     "name": "stdout",
     "output_type": "stream",
     "text": [
      "9.695359714832659\n"
     ]
    }
   ],
   "source": [
    "print(norm_sum_vector)"
   ]
  },
  {
   "cell_type": "code",
   "execution_count": null,
   "id": "a571a17c-8741-4e76-9780-28c17eb057b3",
   "metadata": {},
   "outputs": [],
   "source": []
  },
  {
   "cell_type": "code",
   "execution_count": 144,
   "id": "bc83ec77-e2c8-4b63-90c7-c76dc35880bf",
   "metadata": {},
   "outputs": [
    {
     "data": {
      "text/plain": [
       "(Matrix([\n",
       " [1],\n",
       " [0],\n",
       " [0]]),\n",
       " (0,))"
      ]
     },
     "execution_count": 144,
     "metadata": {},
     "output_type": "execute_result"
    }
   ],
   "source": [
    "Matrix(A).rref()"
   ]
  },
  {
   "cell_type": "code",
   "execution_count": 145,
   "id": "9d54c359-fc79-427e-bb75-f62bec375fa2",
   "metadata": {},
   "outputs": [
    {
     "data": {
      "text/plain": [
       "(Matrix([\n",
       " [1, 0, 0],\n",
       " [0, 1, 0],\n",
       " [0, 0, 1]]),\n",
       " (0, 1, 2))"
      ]
     },
     "execution_count": 145,
     "metadata": {},
     "output_type": "execute_result"
    }
   ],
   "source": [
    "Matrix(B).rref()"
   ]
  },
  {
   "cell_type": "code",
   "execution_count": null,
   "id": "16894142-3983-4b4f-8f00-abe7ed14711b",
   "metadata": {},
   "outputs": [],
   "source": []
  },
  {
   "cell_type": "code",
   "execution_count": null,
   "id": "a51ee958-2629-4b74-a8bd-0f8fae6b4905",
   "metadata": {},
   "outputs": [],
   "source": []
  },
  {
   "cell_type": "code",
   "execution_count": 146,
   "id": "97944045-a837-426f-a50d-5404b9e90786",
   "metadata": {},
   "outputs": [],
   "source": [
    "augmented_matrix = Matrix([[2, 3, 1],\n",
    "                           [10, 9, 11]])"
   ]
  },
  {
   "cell_type": "code",
   "execution_count": 147,
   "id": "bfd0c963-f259-4748-b1c7-664684661dd2",
   "metadata": {},
   "outputs": [],
   "source": [
    "rref_matrix, pivot_columns = augmented_matrix.rref()"
   ]
  },
  {
   "cell_type": "code",
   "execution_count": 148,
   "id": "2fdb54a3-9c03-49be-b381-0be4dee67a6b",
   "metadata": {},
   "outputs": [
    {
     "name": "stdout",
     "output_type": "stream",
     "text": [
      "Matrix([[1, 0, 2], [0, 1, -1]])\n"
     ]
    }
   ],
   "source": [
    "print(rref_matrix)"
   ]
  },
  {
   "cell_type": "code",
   "execution_count": 149,
   "id": "e7554fd8-85be-47ca-ba36-325de11e0377",
   "metadata": {},
   "outputs": [],
   "source": [
    "x_val = rref_matrix[0, -1]\n",
    "y_val = rref_matrix[1, -1]"
   ]
  },
  {
   "cell_type": "code",
   "execution_count": 150,
   "id": "764cde13-3524-47c0-b96a-6358398854a5",
   "metadata": {},
   "outputs": [
    {
     "name": "stdout",
     "output_type": "stream",
     "text": [
      "x = 2\n",
      "y = -1\n"
     ]
    }
   ],
   "source": [
    "print(\"x =\", x_val)\n",
    "print(\"y =\", y_val)"
   ]
  },
  {
   "cell_type": "code",
   "execution_count": null,
   "id": "3736f5d2-e453-4004-b12c-8a650c26d276",
   "metadata": {},
   "outputs": [],
   "source": []
  },
  {
   "cell_type": "code",
   "execution_count": 151,
   "id": "af96649f-1aec-44e6-ac49-0dc54a628e69",
   "metadata": {},
   "outputs": [],
   "source": [
    "augmented_matrix = Matrix([[2, -4, 6],\n",
    "                           [-1, 5, 0]])"
   ]
  },
  {
   "cell_type": "code",
   "execution_count": 153,
   "id": "7fc9b59a-40ec-4dc6-bdb6-07b4dc216aaf",
   "metadata": {},
   "outputs": [
    {
     "data": {
      "text/latex": [
       "$\\displaystyle \\left[\\begin{matrix}1 & 0 & 5\\\\0 & 1 & 1\\end{matrix}\\right]$"
      ],
      "text/plain": [
       "Matrix([\n",
       "[1, 0, 5],\n",
       "[0, 1, 1]])"
      ]
     },
     "execution_count": 153,
     "metadata": {},
     "output_type": "execute_result"
    }
   ],
   "source": [
    "rref_matrix, pivot_columns = augmented_matrix.rref()\n",
    "rref_matrix"
   ]
  },
  {
   "cell_type": "code",
   "execution_count": null,
   "id": "bcf604b5-0382-442f-a598-c402ed42ff19",
   "metadata": {},
   "outputs": [],
   "source": []
  },
  {
   "cell_type": "code",
   "execution_count": 154,
   "id": "1b7f6c3d-27b7-4a13-a720-c893c180cbd0",
   "metadata": {},
   "outputs": [],
   "source": [
    "A = Matrix([[1, 1, 1],\n",
    "            [1, 2, 1],\n",
    "            [0, 1, 2]])"
   ]
  },
  {
   "cell_type": "code",
   "execution_count": 155,
   "id": "a3f1f100-a19e-41c6-81dd-c7daf7f6d5ac",
   "metadata": {},
   "outputs": [
    {
     "data": {
      "text/plain": [
       "(Matrix([\n",
       " [1, 0, 0],\n",
       " [0, 1, 0],\n",
       " [0, 0, 1]]),\n",
       " (0, 1, 2))"
      ]
     },
     "execution_count": 155,
     "metadata": {},
     "output_type": "execute_result"
    }
   ],
   "source": [
    "A.rref()"
   ]
  },
  {
   "cell_type": "code",
   "execution_count": null,
   "id": "24bf6c79-aeec-4b52-ab44-5dd7a97dcd51",
   "metadata": {},
   "outputs": [],
   "source": []
  },
  {
   "cell_type": "code",
   "execution_count": null,
   "id": "8c2e0cf4-6d21-47bb-8648-9be9bfc3a9c4",
   "metadata": {},
   "outputs": [],
   "source": []
  },
  {
   "cell_type": "code",
   "execution_count": 156,
   "id": "57237121-57ce-4fb2-9cff-61307050614f",
   "metadata": {},
   "outputs": [],
   "source": [
    "A = Matrix([[1, 1, 1, 7],\n",
    "            [1, 1, -1, 5],\n",
    "            [1, -1, 1, 3]])"
   ]
  },
  {
   "cell_type": "code",
   "execution_count": 158,
   "id": "7ccf4bc5-5946-4a46-b058-062c1b637567",
   "metadata": {},
   "outputs": [
    {
     "data": {
      "text/plain": [
       "(Matrix([\n",
       " [1, 0, 0, 4],\n",
       " [0, 1, 0, 2],\n",
       " [0, 0, 1, 1]]),\n",
       " (0, 1, 2))"
      ]
     },
     "execution_count": 158,
     "metadata": {},
     "output_type": "execute_result"
    }
   ],
   "source": [
    "A.rref()"
   ]
  },
  {
   "cell_type": "code",
   "execution_count": null,
   "id": "c91a88ab-22d3-4bb9-b02e-298df2bc9ae9",
   "metadata": {},
   "outputs": [],
   "source": [
    "therefore y=1,x=2,z=4"
   ]
  },
  {
   "cell_type": "code",
   "execution_count": 161,
   "id": "1d4d5841-9b34-4bdf-bc2d-361e35db6365",
   "metadata": {},
   "outputs": [],
   "source": [
    "A = Matrix([[1, 1, 1, 7],\n",
    "            [1, 1, -1, 5],\n",
    "            [-1, -1, 1, 3]])"
   ]
  },
  {
   "cell_type": "code",
   "execution_count": 162,
   "id": "d8d96a22-5445-4b8e-b44d-a6454e5ff722",
   "metadata": {},
   "outputs": [
    {
     "data": {
      "text/plain": [
       "(Matrix([\n",
       " [1, 1, 0, 0],\n",
       " [0, 0, 1, 0],\n",
       " [0, 0, 0, 1]]),\n",
       " (0, 2, 3))"
      ]
     },
     "execution_count": 162,
     "metadata": {},
     "output_type": "execute_result"
    }
   ],
   "source": [
    "A.rref()"
   ]
  },
  {
   "cell_type": "code",
   "execution_count": 164,
   "id": "6958c27b-1037-40f5-861c-5bafbc55414e",
   "metadata": {},
   "outputs": [],
   "source": [
    "#no solution since 0 != 1"
   ]
  },
  {
   "cell_type": "code",
   "execution_count": null,
   "id": "c4292b2f-c6d3-4fb7-bd3b-950ce296c721",
   "metadata": {},
   "outputs": [],
   "source": []
  },
  {
   "cell_type": "code",
   "execution_count": null,
   "id": "e804b3bd-be11-4103-b59e-9c81037b4789",
   "metadata": {},
   "outputs": [],
   "source": []
  },
  {
   "cell_type": "code",
   "execution_count": null,
   "id": "7c0a684d-c5b1-4c3f-ab61-903ef1580f97",
   "metadata": {},
   "outputs": [],
   "source": [
    "#QUIZ"
   ]
  },
  {
   "cell_type": "code",
   "execution_count": 166,
   "id": "208f178f-b328-4987-ab10-87156f1f91e5",
   "metadata": {},
   "outputs": [
    {
     "data": {
      "text/plain": [
       "array([ 7, -1])"
      ]
     },
     "execution_count": 166,
     "metadata": {},
     "output_type": "execute_result"
    }
   ],
   "source": [
    "u = np.array([4, -3])\n",
    "v = np.array([3, 2])\n",
    "\n",
    "result = u + v\n",
    "result"
   ]
  },
  {
   "cell_type": "code",
   "execution_count": null,
   "id": "8c7afd44-a6f0-48c7-b862-d60deca39927",
   "metadata": {},
   "outputs": [],
   "source": []
  },
  {
   "cell_type": "code",
   "execution_count": 167,
   "id": "411468b4-6ebe-42a7-a5c3-8fc4aa1bb14f",
   "metadata": {},
   "outputs": [],
   "source": [
    "l1_norm_u = np.linalg.norm(u, ord=1)\n",
    "l2_norm_u = np.linalg.norm(u, ord=2)\n",
    "l3_norm_u = np.linalg.norm(u, ord=3)\n",
    "linf_norm_u = np.linalg.norm(u, ord=np.inf)"
   ]
  },
  {
   "cell_type": "code",
   "execution_count": null,
   "id": "a30acd0e-f382-41f3-b4db-435defb09e44",
   "metadata": {},
   "outputs": [],
   "source": []
  },
  {
   "cell_type": "code",
   "execution_count": 168,
   "id": "194a4a06-41ef-4406-be8b-a9d4f44f5bc0",
   "metadata": {},
   "outputs": [
    {
     "name": "stdout",
     "output_type": "stream",
     "text": [
      "U Norms:\n",
      "L1 7.0\n",
      "L2 5.0\n",
      "L3 4.497941445275415\n",
      "L 4.0\n"
     ]
    }
   ],
   "source": [
    "print(\"U Norms:\")\n",
    "print(\"L1\", l1_norm_u)\n",
    "print(\"L2\", l2_norm_u)\n",
    "print(\"L3\", l3_norm_u)\n",
    "print(\"L\", linf_norm_u)"
   ]
  },
  {
   "cell_type": "code",
   "execution_count": null,
   "id": "de657b8d-313f-4492-a8dd-2be9b4e5c20c",
   "metadata": {},
   "outputs": [],
   "source": []
  },
  {
   "cell_type": "code",
   "execution_count": 169,
   "id": "6ce80702-25c3-4ac0-84f4-625f5334c01e",
   "metadata": {},
   "outputs": [],
   "source": [
    "l1_norm_v = np.linalg.norm(v, ord=1)\n",
    "l2_norm_v = np.linalg.norm(v, ord=2)\n",
    "l3_norm_v = np.linalg.norm(v, ord=3)\n",
    "linf_norm_v = np.linalg.norm(v, ord=np.inf)"
   ]
  },
  {
   "cell_type": "code",
   "execution_count": null,
   "id": "dff2afad-48da-48c8-a591-089427651876",
   "metadata": {},
   "outputs": [],
   "source": []
  },
  {
   "cell_type": "code",
   "execution_count": 170,
   "id": "63f23051-6247-4fe9-910a-16ff1223728c",
   "metadata": {},
   "outputs": [
    {
     "name": "stdout",
     "output_type": "stream",
     "text": [
      "norm of v: 5.0\n",
      "L2 3.605551275463989\n",
      "L3 3.2710663101885897\n",
      "L 3.0\n"
     ]
    }
   ],
   "source": [
    "print(\"norm of v:\", l1_norm_v)\n",
    "print(\"L2\", l2_norm_v)\n",
    "print(\"L3\", l3_norm_v)\n",
    "print(\"L\", linf_norm_v)"
   ]
  },
  {
   "cell_type": "code",
   "execution_count": null,
   "id": "67d4c9f9-13aa-47fa-9179-ca62310a40fd",
   "metadata": {},
   "outputs": [],
   "source": []
  },
  {
   "cell_type": "code",
   "execution_count": 171,
   "id": "f8fac9fb-2bd5-4736-a1c6-95713131248f",
   "metadata": {},
   "outputs": [],
   "source": [
    "u_plus_v = u + v\n",
    "\n",
    "l1_norm_u_plus_v = np.linalg.norm(u_plus_v, ord=1)\n",
    "l2_norm_u_plus_v = np.linalg.norm(u_plus_v, ord=2)\n",
    "l3_norm_u_plus_v = np.linalg.norm(u_plus_v, ord=3)\n",
    "linf_norm_u_plus_v = np.linalg.norm(u_plus_v, ord=np.inf)"
   ]
  },
  {
   "cell_type": "code",
   "execution_count": 172,
   "id": "4c22662d-38d4-46b6-9f37-727e697597cf",
   "metadata": {},
   "outputs": [
    {
     "name": "stdout",
     "output_type": "stream",
     "text": [
      "norm of u + v: 8.0\n",
      "L2 7.0710678118654755\n",
      "L3 7.006796120773448\n",
      "L 7.0\n"
     ]
    }
   ],
   "source": [
    "print(\"norm of u + v:\", l1_norm_u_plus_v)\n",
    "print(\"L2\", l2_norm_u_plus_v)\n",
    "print(\"L3\", l3_norm_u_plus_v)\n",
    "print(\"L\", linf_norm_u_plus_v)"
   ]
  },
  {
   "cell_type": "code",
   "execution_count": null,
   "id": "eda5cd87-ae46-4021-af50-13cbddaea8f0",
   "metadata": {},
   "outputs": [],
   "source": []
  },
  {
   "cell_type": "code",
   "execution_count": 173,
   "id": "36f166e1-3944-4050-addf-0e2a6db23ce9",
   "metadata": {},
   "outputs": [
    {
     "data": {
      "text/plain": [
       "6"
      ]
     },
     "execution_count": 173,
     "metadata": {},
     "output_type": "execute_result"
    }
   ],
   "source": [
    "dot_product_uv = np.dot(u, v)\n",
    "dot_product_uv"
   ]
  },
  {
   "cell_type": "code",
   "execution_count": null,
   "id": "aff578a7-97fc-4738-ad98-54ad22e121b4",
   "metadata": {},
   "outputs": [],
   "source": []
  },
  {
   "cell_type": "code",
   "execution_count": 175,
   "id": "f37fff4d-963f-473d-a7a9-609bc83fe478",
   "metadata": {},
   "outputs": [
    {
     "data": {
      "text/plain": [
       "array([-1.59727667e+17,  4.56364762e+16,  1.14091191e+17])"
      ]
     },
     "execution_count": 175,
     "metadata": {},
     "output_type": "execute_result"
    }
   ],
   "source": [
    "A = np.array([[-3, 2, -5], [2, -3, 4], [1, 1, 1]])\n",
    "B = np.array([14, 10, 14])\n",
    "x = np.linalg.solve(A, B)\n",
    "x"
   ]
  },
  {
   "cell_type": "code",
   "execution_count": null,
   "id": "a6e54742-7e31-40be-af72-e53401c24ab7",
   "metadata": {},
   "outputs": [],
   "source": []
  },
  {
   "cell_type": "code",
   "execution_count": 176,
   "id": "1ddc7fa4-f981-4a80-bcac-d3a4994d76b2",
   "metadata": {},
   "outputs": [
    {
     "data": {
      "text/plain": [
       "array([[ 16,  -9],\n",
       "       [  3, -10],\n",
       "       [  3,   0]])"
      ]
     },
     "execution_count": 176,
     "metadata": {},
     "output_type": "execute_result"
    }
   ],
   "source": [
    "A_matrix = np.array([[2, 1, 3], [3, -2, 1], [-1, 0, 1]])\n",
    "B_matrix = np.array([[1, -2], [2, 1], [4, -2]])\n",
    "AB_matrix = np.dot(A_matrix, B_matrix)\n",
    "AB_matrix "
   ]
  },
  {
   "cell_type": "code",
   "execution_count": 181,
   "id": "9dfeab1d-a8ce-456c-9d3e-e5f8ae902ba7",
   "metadata": {},
   "outputs": [],
   "source": [
    "import sympy as sp"
   ]
  },
  {
   "cell_type": "code",
   "execution_count": 182,
   "id": "9cb57ec1-09f6-4e00-8df4-3b9032b5cd4e",
   "metadata": {},
   "outputs": [],
   "source": [
    "A_matrix = sp.Matrix([\n",
    "    [2, 1, 3],\n",
    "    [3, -2, 1],\n",
    "    [-1, 0, 1]\n",
    "])\n",
    "\n",
    "B_matrix = sp.Matrix([\n",
    "    [1, -2],\n",
    "    [2, 1],\n",
    "    [4, -2]\n",
    "])"
   ]
  },
  {
   "cell_type": "code",
   "execution_count": 183,
   "id": "e04e2406-9021-41d7-b12b-18773598561b",
   "metadata": {},
   "outputs": [
    {
     "data": {
      "text/plain": [
       "(Matrix([\n",
       " [1, 0, 0],\n",
       " [0, 1, 0],\n",
       " [0, 0, 1]]),\n",
       " (0, 1, 2))"
      ]
     },
     "execution_count": 183,
     "metadata": {},
     "output_type": "execute_result"
    }
   ],
   "source": [
    "A_matrix.rref()"
   ]
  },
  {
   "cell_type": "code",
   "execution_count": 184,
   "id": "7a9709ea-bb18-4ef5-982b-d57f5849490a",
   "metadata": {},
   "outputs": [
    {
     "data": {
      "text/plain": [
       "(Matrix([\n",
       " [1, 0],\n",
       " [0, 1],\n",
       " [0, 0]]),\n",
       " (0, 1))"
      ]
     },
     "execution_count": 184,
     "metadata": {},
     "output_type": "execute_result"
    }
   ],
   "source": [
    "B_matrix.rref()"
   ]
  },
  {
   "cell_type": "code",
   "execution_count": null,
   "id": "54a39bd9-6702-4683-a78d-c2d8915bc596",
   "metadata": {},
   "outputs": [],
   "source": [
    "AAA"
   ]
  }
 ],
 "metadata": {
  "kernelspec": {
   "display_name": "Python 3 (ipykernel)",
   "language": "python",
   "name": "python3"
  },
  "language_info": {
   "codemirror_mode": {
    "name": "ipython",
    "version": 3
   },
   "file_extension": ".py",
   "mimetype": "text/x-python",
   "name": "python",
   "nbconvert_exporter": "python",
   "pygments_lexer": "ipython3",
   "version": "3.11.1"
  }
 },
 "nbformat": 4,
 "nbformat_minor": 5
}
