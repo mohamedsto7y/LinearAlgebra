{
 "cells": [
  {
   "cell_type": "markdown",
   "id": "dd5fdc2a",
   "metadata": {},
   "source": [
    "## Linear Combination\n",
    "### Use NumPy"
   ]
  },
  {
   "cell_type": "markdown",
   "id": "38364291",
   "metadata": {},
   "source": [
    "$$v_1=\\begin{bmatrix} 1 \\\\ 2 \\\\ 3 \\end{bmatrix},\n",
    "v_2=\\begin{bmatrix} 3 \\\\ 5 \\\\ 1 \\end{bmatrix},\n",
    "v_3=\\begin{bmatrix} 0 \\\\ 0 \\\\ 8 \\end{bmatrix}$$\n",
    "- Find <b>b</b> vector where $$b=3v_1+0v_2+0v_3$$\n",
    "- Find <b>x</b> vector where $$x=-v_1+v_2-0.5v_3$$"
   ]
  },
  {
   "cell_type": "code",
   "execution_count": 2,
   "id": "07542d77",
   "metadata": {},
   "outputs": [],
   "source": [
    "import numpy as np"
   ]
  },
  {
   "cell_type": "code",
   "execution_count": 3,
   "id": "f11b5eeb-6ee8-43fd-8b21-4d349bc217ef",
   "metadata": {},
   "outputs": [],
   "source": [
    "v1 = np.array([[1], [2], [3]])\n",
    "v2 = np.array([[3], [5], [1]])\n",
    "v3 = np.array([[0], [0], [8]])"
   ]
  },
  {
   "cell_type": "code",
   "execution_count": 5,
   "id": "33245f5d",
   "metadata": {},
   "outputs": [
    {
     "name": "stdout",
     "output_type": "stream",
     "text": [
      "[[3]\n",
      " [6]\n",
      " [9]]\n"
     ]
    }
   ],
   "source": [
    "b = 3 * v1 + 0 * v2 + 0 * v3\n",
    "print(b)"
   ]
  },
  {
   "cell_type": "code",
   "execution_count": 6,
   "id": "419b83e0-7782-487c-b199-36217a97c47b",
   "metadata": {},
   "outputs": [
    {
     "name": "stdout",
     "output_type": "stream",
     "text": [
      "[[ 2.]\n",
      " [ 3.]\n",
      " [-6.]]\n"
     ]
    }
   ],
   "source": [
    "x = -v1 + v2 - 0.5 * v3\n",
    "print(x)"
   ]
  },
  {
   "cell_type": "code",
   "execution_count": 5,
   "id": "fe0eb854",
   "metadata": {},
   "outputs": [
    {
     "name": "stdout",
     "output_type": "stream",
     "text": [
      "b:\n",
      "[[3]\n",
      " [6]\n",
      " [9]]\n",
      "\n",
      "x:\n",
      "[[ 2.]\n",
      " [ 3.]\n",
      " [-6.]]\n"
     ]
    }
   ],
   "source": []
  },
  {
   "cell_type": "markdown",
   "id": "54955382",
   "metadata": {},
   "source": [
    "## Vector Span\n",
    "### Use Numpy (matrix inverse) and SymPy (rref)"
   ]
  },
  {
   "cell_type": "markdown",
   "id": "9d440a16",
   "metadata": {},
   "source": [
    "#### Is $$v=\\begin{bmatrix} 19 \\\\ 10 \\\\ -1 \\end{bmatrix}$$ in the span of \n",
    "$$v_1=\\begin{bmatrix} 3 \\\\ -1 \\\\ 2 \\end{bmatrix},\n",
    "v_2=\\begin{bmatrix} -5 \\\\ 0 \\\\ 1 \\end{bmatrix},\n",
    "v_3=\\begin{bmatrix} 1 \\\\ 7 \\\\ -4 \\end{bmatrix}$$"
   ]
  },
  {
   "cell_type": "code",
   "execution_count": 13,
   "id": "25973e31-6a80-4476-908e-2fb87897874b",
   "metadata": {},
   "outputs": [],
   "source": [
    "from sympy import Matrix"
   ]
  },
  {
   "cell_type": "code",
   "execution_count": 8,
   "id": "3a9022bb-4a03-4056-9e64-d219891f1c71",
   "metadata": {},
   "outputs": [],
   "source": [
    "v = np.array([[19], [10], [-1]])\n",
    "v1 = np.array([[3], [-1], [2]])\n",
    "v2 = np.array([[-5], [0], [1]])\n",
    "v3 = np.array([[1], [7], [-4]])"
   ]
  },
  {
   "cell_type": "code",
   "execution_count": null,
   "id": "42f2f9f0-9340-4cd8-b8a7-9a0e4e8bd88a",
   "metadata": {},
   "outputs": [],
   "source": []
  },
  {
   "cell_type": "code",
   "execution_count": 21,
   "id": "8ca602c2-6c85-4203-bf53-202c04125401",
   "metadata": {},
   "outputs": [],
   "source": [
    "matrix=Matrix([ [3, -5,  1, 19],\n",
    "            [-1,  0,  7, 10],\n",
    "             [ 2,  1, -4, -1]])"
   ]
  },
  {
   "cell_type": "code",
   "execution_count": 22,
   "id": "7e9e4df9-81f1-46d0-b20b-8c4543586e79",
   "metadata": {
    "scrolled": true
   },
   "outputs": [
    {
     "data": {
      "text/plain": [
       "(Matrix([\n",
       " [1, 0, 0,  4],\n",
       " [0, 1, 0, -1],\n",
       " [0, 0, 1,  2]]),\n",
       " (0, 1, 2))"
      ]
     },
     "execution_count": 22,
     "metadata": {},
     "output_type": "execute_result"
    }
   ],
   "source": [
    "matrix.rref()"
   ]
  },
  {
   "cell_type": "code",
   "execution_count": 7,
   "id": "6da888d4",
   "metadata": {},
   "outputs": [
    {
     "data": {
      "text/plain": [
       "(Matrix([\n",
       " [1, 0, 0,  4],\n",
       " [0, 1, 0, -1],\n",
       " [0, 0, 1,  2]]),\n",
       " (0, 1, 2))"
      ]
     },
     "execution_count": 7,
     "metadata": {},
     "output_type": "execute_result"
    }
   ],
   "source": []
  },
  {
   "cell_type": "code",
   "execution_count": 23,
   "id": "d17cfe67-c760-411c-8d81-fef9cb95c829",
   "metadata": {},
   "outputs": [],
   "source": [
    "A = np.column_stack((v1, v2, v3))"
   ]
  },
  {
   "cell_type": "code",
   "execution_count": 24,
   "id": "a7eeab05-814d-491d-9d26-6a3e0ffc2cc9",
   "metadata": {},
   "outputs": [
    {
     "data": {
      "text/plain": [
       "array([[ 4.],\n",
       "       [-1.],\n",
       "       [ 2.]])"
      ]
     },
     "execution_count": 24,
     "metadata": {},
     "output_type": "execute_result"
    }
   ],
   "source": [
    "scalars = np.linalg.solve(A, v)\n",
    "scalars"
   ]
  },
  {
   "cell_type": "code",
   "execution_count": 10,
   "id": "e36628ca",
   "metadata": {},
   "outputs": [],
   "source": []
  },
  {
   "cell_type": "code",
   "execution_count": 11,
   "id": "3105d94a",
   "metadata": {},
   "outputs": [],
   "source": []
  },
  {
   "cell_type": "code",
   "execution_count": 12,
   "id": "f0d48b0c",
   "metadata": {},
   "outputs": [
    {
     "name": "stdout",
     "output_type": "stream",
     "text": [
      "[[ 4.]\n",
      " [-1.]\n",
      " [ 2.]]\n"
     ]
    }
   ],
   "source": []
  },
  {
   "cell_type": "markdown",
   "id": "821a71ae",
   "metadata": {},
   "source": [
    "## Vector Linear Independence\n",
    "### Use rref and determinant\n",
    "- Consider the following sets of vectors in R3. If the set is independent, prove it. \n",
    "- If the set is dependent, find a nontrivial linear combination of the vectors which is equal to 0.\n",
    "    - {(2, 0, -3), (1, 1, 1), (1, 7, 2)}.\n",
    "    - {(1, 2, -1), (4, 1, 3), (-10, 1, -11)}.\n",
    "\n",
    "<b>Hint: we have to determine whether this implies that 𝒂=𝒃=𝒄=𝟎.</b>"
   ]
  },
  {
   "cell_type": "code",
   "execution_count": null,
   "id": "7cfce07a-041e-4555-b215-8128a7e83f64",
   "metadata": {},
   "outputs": [],
   "source": []
  },
  {
   "cell_type": "code",
   "execution_count": 91,
   "id": "cfcc77a4-1abf-41f9-8263-e77a333aeb11",
   "metadata": {},
   "outputs": [],
   "source": [
    "matrix = Matrix([\n",
    "              [2,0,-3], \n",
    "              [1,1,1],\n",
    "              [1,7,2],\n",
    "              ])"
   ]
  },
  {
   "cell_type": "code",
   "execution_count": 92,
   "id": "4567bf4a-b0ff-4983-b198-0c5c395d8653",
   "metadata": {},
   "outputs": [
    {
     "data": {
      "text/plain": [
       "(Matrix([\n",
       " [1, 0, 0],\n",
       " [0, 1, 0],\n",
       " [0, 0, 1]]),\n",
       " (0, 1, 2))"
      ]
     },
     "execution_count": 92,
     "metadata": {},
     "output_type": "execute_result"
    }
   ],
   "source": [
    "matrix.rref()"
   ]
  },
  {
   "cell_type": "code",
   "execution_count": null,
   "id": "ece3db75-1ad2-4ee7-a3fb-16139687e1f8",
   "metadata": {},
   "outputs": [],
   "source": [
    "# it is linearly independent"
   ]
  },
  {
   "cell_type": "code",
   "execution_count": null,
   "id": "6728b30f-5047-49f6-b36a-1678809159a2",
   "metadata": {},
   "outputs": [],
   "source": []
  },
  {
   "cell_type": "code",
   "execution_count": 93,
   "id": "650c1565-d315-4bdb-a00e-57a837bf45b6",
   "metadata": {},
   "outputs": [],
   "source": [
    "matrix = Matrix([\n",
    "              [1,2,-1], \n",
    "              [4,1,3],\n",
    "              [-10,1,-11],\n",
    "              ])"
   ]
  },
  {
   "cell_type": "code",
   "execution_count": 94,
   "id": "c2c4b241-0741-4ef5-aed8-63d2551ffbe5",
   "metadata": {},
   "outputs": [
    {
     "data": {
      "text/plain": [
       "(Matrix([\n",
       " [1, 0,  1],\n",
       " [0, 1, -1],\n",
       " [0, 0,  0]]),\n",
       " (0, 1))"
      ]
     },
     "execution_count": 94,
     "metadata": {},
     "output_type": "execute_result"
    }
   ],
   "source": [
    "matrix.rref()"
   ]
  },
  {
   "cell_type": "code",
   "execution_count": null,
   "id": "b5ba48f3-9389-481c-8620-e20f0da041d2",
   "metadata": {},
   "outputs": [],
   "source": [
    "#linearly dependent"
   ]
  },
  {
   "cell_type": "code",
   "execution_count": null,
   "id": "0e39fb73-7b46-4577-a54d-893626615028",
   "metadata": {},
   "outputs": [],
   "source": []
  },
  {
   "cell_type": "code",
   "execution_count": null,
   "id": "b0527458-e7af-41c3-bbeb-18a99575a58b",
   "metadata": {},
   "outputs": [],
   "source": []
  },
  {
   "cell_type": "code",
   "execution_count": 25,
   "id": "765fd9a0",
   "metadata": {},
   "outputs": [],
   "source": [
    "A1 = np.array([[2, 0, -3], [1, 1, 1], [1, 7, 2]])"
   ]
  },
  {
   "cell_type": "code",
   "execution_count": 14,
   "id": "51c3ffd9",
   "metadata": {},
   "outputs": [
    {
     "data": {
      "text/plain": [
       "(Matrix([\n",
       " [1, 0, 0],\n",
       " [0, 1, 0],\n",
       " [0, 0, 1]]),\n",
       " (0, 1, 2))"
      ]
     },
     "execution_count": 14,
     "metadata": {},
     "output_type": "execute_result"
    }
   ],
   "source": []
  },
  {
   "cell_type": "code",
   "execution_count": 98,
   "id": "ddef10e0",
   "metadata": {},
   "outputs": [],
   "source": [
    "M = Matrix([[1,4,-10],\n",
    "            [2,1,1],\n",
    "            [-1,3,-11]])"
   ]
  },
  {
   "cell_type": "code",
   "execution_count": 99,
   "id": "8d732978-10ca-4672-9122-8c6b52ac300a",
   "metadata": {},
   "outputs": [
    {
     "data": {
      "text/plain": [
       "(Matrix([\n",
       " [1, 0,  2],\n",
       " [0, 1, -3],\n",
       " [0, 0,  0]]),\n",
       " (0, 1))"
      ]
     },
     "execution_count": 99,
     "metadata": {},
     "output_type": "execute_result"
    }
   ],
   "source": [
    "M.rref()"
   ]
  },
  {
   "cell_type": "code",
   "execution_count": 17,
   "id": "e094ea5c",
   "metadata": {},
   "outputs": [
    {
     "data": {
      "text/plain": [
       "(Matrix([\n",
       " [1, 0,  2],\n",
       " [0, 1, -3],\n",
       " [0, 0,  0]]),\n",
       " (0, 1))"
      ]
     },
     "execution_count": 17,
     "metadata": {},
     "output_type": "execute_result"
    }
   ],
   "source": []
  },
  {
   "cell_type": "markdown",
   "id": "c88fb001",
   "metadata": {},
   "source": [
    "## Linear Transformation\n",
    "### Ex.1"
   ]
  },
  {
   "cell_type": "markdown",
   "id": "9ef341fd",
   "metadata": {},
   "source": [
    "$$T=\\begin{bmatrix} 1&2 \\\\ 3&7 \\end{bmatrix}$$\n",
    "- Write the linear transformation expression of this matrix. i.e. Linear functions of x,y. \n",
    "- Apply the transformation matrix <b>T</b> to the following vectors:\n",
    "$$\\begin{bmatrix} 1 \\\\ 0 \\end{bmatrix},\\begin{bmatrix} 0 \\\\ 1 \\end{bmatrix} $$\n",
    "- Find all points <b>(x,y)</b> such that <b>T(x,y)=(1,0)</b>"
   ]
  },
  {
   "cell_type": "code",
   "execution_count": 100,
   "id": "90cf5495",
   "metadata": {},
   "outputs": [],
   "source": [
    "T = np.array([[1, 2], [3, 7]])"
   ]
  },
  {
   "cell_type": "code",
   "execution_count": 101,
   "id": "e82776d2",
   "metadata": {},
   "outputs": [],
   "source": [
    "e1 = np.array([1, 0])"
   ]
  },
  {
   "cell_type": "code",
   "execution_count": 102,
   "id": "8d5f60db-affb-4aac-a6b6-d0dc3e4fd3f9",
   "metadata": {},
   "outputs": [],
   "source": [
    "e2 = np.array([0, 1])"
   ]
  },
  {
   "cell_type": "code",
   "execution_count": 103,
   "id": "373e2fd9-1f09-4b8f-8698-b482d78aa98c",
   "metadata": {},
   "outputs": [],
   "source": [
    "result_vector1 = np.dot(T, e1)\n",
    "result_vector2 = np.dot(T, e2)"
   ]
  },
  {
   "cell_type": "code",
   "execution_count": 104,
   "id": "168151bb-b3b7-4fa2-9e25-0ea650fface9",
   "metadata": {
    "scrolled": true
   },
   "outputs": [
    {
     "data": {
      "text/plain": [
       "array([1, 3])"
      ]
     },
     "execution_count": 104,
     "metadata": {},
     "output_type": "execute_result"
    }
   ],
   "source": [
    "result_vector1"
   ]
  },
  {
   "cell_type": "code",
   "execution_count": 105,
   "id": "0d99f9c9-cfa2-4f7c-b0e3-13a28c38652b",
   "metadata": {},
   "outputs": [
    {
     "data": {
      "text/plain": [
       "array([2, 7])"
      ]
     },
     "execution_count": 105,
     "metadata": {},
     "output_type": "execute_result"
    }
   ],
   "source": [
    "result_vector2"
   ]
  },
  {
   "cell_type": "code",
   "execution_count": 106,
   "id": "a62bb970-718d-49ce-852f-b514413dc6ad",
   "metadata": {},
   "outputs": [],
   "source": [
    "vector_output = np.array([1, 0])"
   ]
  },
  {
   "cell_type": "code",
   "execution_count": 107,
   "id": "67208d46-34db-4459-a0de-a959f845ae82",
   "metadata": {},
   "outputs": [
    {
     "data": {
      "text/plain": [
       "array([ 7., -3.])"
      ]
     },
     "execution_count": 107,
     "metadata": {},
     "output_type": "execute_result"
    }
   ],
   "source": [
    "solution = np.linalg.solve(T, vector_output)\n",
    "solution"
   ]
  },
  {
   "cell_type": "code",
   "execution_count": null,
   "id": "ed4af8fa-1733-4a7b-a73b-b178f6da04d2",
   "metadata": {},
   "outputs": [],
   "source": []
  },
  {
   "cell_type": "code",
   "execution_count": 27,
   "id": "d3e46a3d",
   "metadata": {},
   "outputs": [
    {
     "name": "stdout",
     "output_type": "stream",
     "text": [
      "A.v1=\n",
      "[[1]\n",
      " [3]]\n",
      "\n",
      "A.v2=\n",
      "[[2]\n",
      " [7]]\n"
     ]
    }
   ],
   "source": []
  },
  {
   "cell_type": "code",
   "execution_count": 29,
   "id": "5e4bdf4e",
   "metadata": {},
   "outputs": [
    {
     "name": "stdout",
     "output_type": "stream",
     "text": [
      "(x,y):\n",
      "[[ 7.]\n",
      " [-3.]]\n"
     ]
    }
   ],
   "source": []
  },
  {
   "cell_type": "markdown",
   "id": "aa9f63c6",
   "metadata": {},
   "source": [
    "### Ex.2\n",
    "### For the expression $$T\\begin{bmatrix} x \\\\ y \\end{bmatrix}=\\begin{bmatrix} x+y \\\\ y \\end{bmatrix}$$\n",
    "- Find the transformation matrix.\n",
    "- Represent the transformation graphically <b>(on paper)</b>.\n",
    "- Find all points <b>(x,y)</b> such that <b>T(x,y)=(3,4)</b>"
   ]
  },
  {
   "cell_type": "code",
   "execution_count": null,
   "id": "8b572734-6e17-4c4f-8f71-ddcf8d3c7948",
   "metadata": {},
   "outputs": [],
   "source": [
    "For [1,0] x+y:y = [1,0]"
   ]
  },
  {
   "cell_type": "code",
   "execution_count": null,
   "id": "aec5477a-4d76-4095-a4e5-459afd9f8f96",
   "metadata": {},
   "outputs": [],
   "source": [
    "For [0,1] x+y:y = [1,1]"
   ]
  },
  {
   "cell_type": "code",
   "execution_count": 110,
   "id": "d67f2e4b-5b27-4fc3-b67e-7fc7b83cc17a",
   "metadata": {},
   "outputs": [],
   "source": [
    "T=[[1,1],[0,1]]"
   ]
  },
  {
   "cell_type": "code",
   "execution_count": 111,
   "id": "07567ca8-626f-49c7-aef4-f4fa8d7d8aa0",
   "metadata": {},
   "outputs": [],
   "source": [
    "vector_output = np.array([3, 4])"
   ]
  },
  {
   "cell_type": "code",
   "execution_count": 112,
   "id": "de7690db-59d9-4010-acf9-a78e5fb8fc84",
   "metadata": {},
   "outputs": [
    {
     "data": {
      "text/plain": [
       "array([-1.,  4.])"
      ]
     },
     "execution_count": 112,
     "metadata": {},
     "output_type": "execute_result"
    }
   ],
   "source": [
    "solution = np.linalg.solve(T, vector_output)\n",
    "solution"
   ]
  },
  {
   "cell_type": "code",
   "execution_count": null,
   "id": "b54896f2-1821-4402-93e9-63b651d75939",
   "metadata": {},
   "outputs": [],
   "source": []
  },
  {
   "cell_type": "code",
   "execution_count": 32,
   "id": "96dd3fd1",
   "metadata": {},
   "outputs": [
    {
     "name": "stdout",
     "output_type": "stream",
     "text": [
      "x:\n",
      "[[-1.]\n",
      " [ 4.]]\n"
     ]
    }
   ],
   "source": []
  },
  {
   "cell_type": "markdown",
   "id": "81b7edf9",
   "metadata": {},
   "source": [
    "## Determinant\n",
    "### Find Determinant of:"
   ]
  },
  {
   "cell_type": "markdown",
   "id": "f999e755",
   "metadata": {},
   "source": [
    "$$\\begin{bmatrix} 3&8 \\\\ 4&6 \\end{bmatrix} , \\begin{bmatrix} 4&6 \\\\ 3&8 \\end{bmatrix}$$\n",
    "$$\\begin{bmatrix} 6&1&1 \\\\ 4&-2&5 \\\\ 2&8&7\\end{bmatrix}$$\n",
    "$$\\begin{bmatrix} 3&2&0&1 \\\\ 4&0&1&2 \\\\ 3&0&2&1 \\\\ 9&2&3&1\\end{bmatrix}$$\n"
   ]
  },
  {
   "cell_type": "code",
   "execution_count": null,
   "id": "0bd94da6-2a36-4b2e-861b-c796865e96f8",
   "metadata": {},
   "outputs": [],
   "source": [
    "A1 = np.array([[3, 8], \n",
    "               [4,6]])\n",
    "A2 = np.array([[4, 6], \n",
    "               [3,8]])\n",
    "A3 = np.array([[6, 1, 1], \n",
    "               [4,-2, 5],\n",
    "              [2, 8, 7]])\n",
    "A4 = np.array([[3, 2, 0, 1], \n",
    "               [4, 0, 1, 2],\n",
    "              [3, 0, 2, 1],\n",
    "              [9, 2, 3, 1]])"
   ]
  },
  {
   "cell_type": "code",
   "execution_count": 59,
   "id": "7236b0db-b8a2-4373-b91d-2b42eb408cdf",
   "metadata": {},
   "outputs": [
    {
     "name": "stdout",
     "output_type": "stream",
     "text": [
      "A1: -14.000000000000004\n",
      "A2: 14.000000000000004\n",
      "A3: -306.0\n",
      "A4: 24.000000000000004\n"
     ]
    }
   ],
   "source": [
    "det_A1 = np.linalg.det(A1)\n",
    "det_A2 = np.linalg.det(A2)\n",
    "det_A3 = np.linalg.det(A3)\n",
    "det_A4 = np.linalg.det(A4)\n",
    "\n",
    "print(\"A1:\", det_A1)\n",
    "print(\"A2:\", det_A2)\n",
    "print(\"A3:\", det_A3)\n",
    "print(\"A4:\", det_A4)"
   ]
  },
  {
   "cell_type": "code",
   "execution_count": null,
   "id": "7bc13b74-3857-4627-9f99-2dc6c966e543",
   "metadata": {},
   "outputs": [],
   "source": []
  },
  {
   "cell_type": "code",
   "execution_count": 39,
   "id": "95fc52ce",
   "metadata": {},
   "outputs": [
    {
     "name": "stdout",
     "output_type": "stream",
     "text": [
      "1.  -14.000000000000004\n",
      "2.  14.000000000000004\n",
      "3.  -306.0\n",
      "4.  24.000000000000004\n"
     ]
    }
   ],
   "source": []
  },
  {
   "cell_type": "markdown",
   "id": "3d7f760c",
   "metadata": {},
   "source": [
    "## Matrix Rank\n",
    "### Find the rank of the matrix (use rref and confirm using matrix_rank())"
   ]
  },
  {
   "cell_type": "markdown",
   "id": "39022ae4",
   "metadata": {},
   "source": [
    "$$X = \\begin{bmatrix} 1&2&4&4 \\\\ 3&4&8&0 \\end{bmatrix}$$\n",
    "$$Y = \\begin{bmatrix} 1&2&3 \\\\ 2&3&5 \\\\ 3&4&7 \\\\ 4&5&9  \\end{bmatrix}$$"
   ]
  },
  {
   "cell_type": "code",
   "execution_count": null,
   "id": "63541827-5b31-4984-b2d7-3bdcd28bf78a",
   "metadata": {},
   "outputs": [],
   "source": []
  },
  {
   "cell_type": "code",
   "execution_count": 39,
   "id": "58a7f0df-62f6-4848-8ac6-46b4cf2176b0",
   "metadata": {},
   "outputs": [],
   "source": [
    "X = Matrix([[1, 2, 4, 4], [3, 4, 8, 0]])"
   ]
  },
  {
   "cell_type": "code",
   "execution_count": 41,
   "id": "2a7f427c-7e1c-4dc7-9c7e-0193228b1ef8",
   "metadata": {},
   "outputs": [
    {
     "data": {
      "text/plain": [
       "(Matrix([\n",
       " [1, 0, 0, -8],\n",
       " [0, 1, 2,  6]]),\n",
       " (0, 1))"
      ]
     },
     "execution_count": 41,
     "metadata": {},
     "output_type": "execute_result"
    }
   ],
   "source": [
    "X.rref()"
   ]
  },
  {
   "cell_type": "code",
   "execution_count": 43,
   "id": "f064da3e-8831-4529-9c29-ecadaa8544ad",
   "metadata": {},
   "outputs": [],
   "source": [
    "rref_X, pivot_columns = X.rref()"
   ]
  },
  {
   "cell_type": "code",
   "execution_count": 45,
   "id": "665be3c5-7e69-419c-b251-6b828ce6ed28",
   "metadata": {},
   "outputs": [
    {
     "name": "stdout",
     "output_type": "stream",
     "text": [
      "X rank is 2\n"
     ]
    }
   ],
   "source": [
    "print(f'X rank is {len(pivot_columns)}')"
   ]
  },
  {
   "cell_type": "code",
   "execution_count": 49,
   "id": "6855c257",
   "metadata": {},
   "outputs": [
    {
     "name": "stdout",
     "output_type": "stream",
     "text": [
      "(Matrix([\n",
      "[1, 0, 0, -8],\n",
      "[0, 1, 2,  6]]), (0, 1))\n",
      "\n",
      "X rank: 2\n"
     ]
    }
   ],
   "source": []
  },
  {
   "cell_type": "code",
   "execution_count": null,
   "id": "f00a9208-bbc9-4b6f-a6d1-e8bb4ad9ace4",
   "metadata": {},
   "outputs": [],
   "source": []
  },
  {
   "cell_type": "code",
   "execution_count": 58,
   "id": "c174b82a-9564-4bc3-aa77-a63aa5f444ed",
   "metadata": {},
   "outputs": [
    {
     "data": {
      "text/plain": [
       "2"
      ]
     },
     "execution_count": 58,
     "metadata": {},
     "output_type": "execute_result"
    }
   ],
   "source": [
    "rank_X = np.linalg.matrix_rank(np.array([[1, 2, 4, 4], [3, 4, 8, 0]])\n",
    ")\n",
    "rank_X"
   ]
  },
  {
   "cell_type": "code",
   "execution_count": null,
   "id": "4c6f5339-073c-4614-8b89-4a83171a84e7",
   "metadata": {},
   "outputs": [],
   "source": []
  },
  {
   "cell_type": "code",
   "execution_count": null,
   "id": "424e0b26-79e7-45f0-beee-222ac5994abe",
   "metadata": {},
   "outputs": [],
   "source": []
  },
  {
   "cell_type": "code",
   "execution_count": 53,
   "id": "2602876b-8dc6-44a4-b90a-b759ebc2eee7",
   "metadata": {},
   "outputs": [
    {
     "name": "stdout",
     "output_type": "stream",
     "text": [
      "(Matrix([\n",
      "[1, 0, 1.0],\n",
      "[0, 1, 1.0],\n",
      "[0, 0,   0],\n",
      "[0, 0,   0]]), (0, 1))\n",
      "Y rank is 2\n"
     ]
    }
   ],
   "source": [
    "Y = Matrix([[1, 2, 3], [2, 3, 5], [3, 4, 7], [4, 5, 9]])\n",
    "print(Y.rref())\n",
    "rref_Y, pivot_columns = Y.rref()\n",
    "print(f'Y rank is {len(pivot_columns)}')"
   ]
  },
  {
   "cell_type": "code",
   "execution_count": 50,
   "id": "864a8f85",
   "metadata": {
    "scrolled": true
   },
   "outputs": [
    {
     "name": "stdout",
     "output_type": "stream",
     "text": [
      "(Matrix([\n",
      "[1, 0, 1],\n",
      "[0, 1, 1],\n",
      "[0, 0, 0],\n",
      "[0, 0, 0]]), (0, 1))\n",
      "\n",
      "Y rank: 2\n"
     ]
    }
   ],
   "source": []
  },
  {
   "cell_type": "code",
   "execution_count": 57,
   "id": "b1b03ba1-1d68-4835-8a70-e341a3ebb11f",
   "metadata": {},
   "outputs": [
    {
     "data": {
      "text/plain": [
       "2"
      ]
     },
     "execution_count": 57,
     "metadata": {},
     "output_type": "execute_result"
    }
   ],
   "source": [
    "rank_Y = np.linalg.matrix_rank(np.array([[1, 2, 3], [2, 3, 5], [3, 4, 7], [4, 5, 9]])\n",
    ")\n",
    "rank_Y"
   ]
  },
  {
   "cell_type": "code",
   "execution_count": null,
   "id": "3a52e0dc-1ec8-4ecf-b487-06b3e3e89bd6",
   "metadata": {},
   "outputs": [],
   "source": []
  },
  {
   "cell_type": "markdown",
   "id": "9b55ebcf",
   "metadata": {},
   "source": [
    "## Matrix Inverse\n",
    "### Find the inverse:"
   ]
  },
  {
   "cell_type": "markdown",
   "id": "6f15a14c",
   "metadata": {},
   "source": [
    "$$\\begin{bmatrix} 3&8 \\\\ 4&6 \\end{bmatrix} , \\begin{bmatrix} 4&6 \\\\ 3&8 \\end{bmatrix}$$\n",
    "$$\\begin{bmatrix} 6&1&1 \\\\ 4&-2&5 \\\\ 2&8&7\\end{bmatrix}$$\n",
    "$$\\begin{bmatrix} 3&2&0&1 \\\\ 4&0&1&2 \\\\ 3&0&2&1 \\\\ 9&2&3&1\\end{bmatrix}$$"
   ]
  },
  {
   "cell_type": "code",
   "execution_count": 31,
   "id": "55f987bd-f79e-4ab6-a377-eeb45b4d9286",
   "metadata": {},
   "outputs": [
    {
     "data": {
      "text/plain": [
       "array([[-0.42857143,  0.57142857],\n",
       "       [ 0.28571429, -0.21428571]])"
      ]
     },
     "execution_count": 31,
     "metadata": {},
     "output_type": "execute_result"
    }
   ],
   "source": [
    "A1 = np.array([[3, 8], \n",
    "               [4,6]])\n",
    "inverse_A1 = np.linalg.inv(A1)\n",
    "inverse_A1"
   ]
  },
  {
   "cell_type": "code",
   "execution_count": 32,
   "id": "f7744f0a-438d-460f-be4d-26c8cc102b46",
   "metadata": {},
   "outputs": [
    {
     "data": {
      "text/plain": [
       "array([[ 0.57142857, -0.42857143],\n",
       "       [-0.21428571,  0.28571429]])"
      ]
     },
     "execution_count": 32,
     "metadata": {},
     "output_type": "execute_result"
    }
   ],
   "source": [
    "A2 = np.array([[4, 6], \n",
    "               [3,8]])\n",
    "inverse_A2 = np.linalg.inv(A2)\n",
    "inverse_A2"
   ]
  },
  {
   "cell_type": "code",
   "execution_count": 33,
   "id": "d11c6eb2-09af-48e0-92ed-5e9ffcf746c7",
   "metadata": {},
   "outputs": [
    {
     "data": {
      "text/plain": [
       "array([[ 0.17647059, -0.00326797, -0.02287582],\n",
       "       [ 0.05882353, -0.13071895,  0.08496732],\n",
       "       [-0.11764706,  0.1503268 ,  0.05228758]])"
      ]
     },
     "execution_count": 33,
     "metadata": {},
     "output_type": "execute_result"
    }
   ],
   "source": [
    "A3 = np.array([[6, 1, 1], \n",
    "               [4,-2, 5],\n",
    "              [2, 8, 7]])\n",
    "inverse_A3 = np.linalg.inv(A3)\n",
    "inverse_A3"
   ]
  },
  {
   "cell_type": "code",
   "execution_count": 34,
   "id": "7a311477-a4c8-4c21-a47c-51425de7ac56",
   "metadata": {},
   "outputs": [
    {
     "data": {
      "text/plain": [
       "array([[-0.25      ,  0.25      , -0.5       ,  0.25      ],\n",
       "       [ 0.66666667, -0.5       ,  0.5       , -0.16666667],\n",
       "       [ 0.16666667, -0.5       ,  1.        , -0.16666667],\n",
       "       [ 0.41666667,  0.25      ,  0.5       , -0.41666667]])"
      ]
     },
     "execution_count": 34,
     "metadata": {},
     "output_type": "execute_result"
    }
   ],
   "source": [
    "A4 = np.array([[3, 2, 0, 1], \n",
    "               [4, 0, 1, 2],\n",
    "              [3, 0, 2, 1],\n",
    "              [9, 2, 3, 1]])\n",
    "inverse_A4 = np.linalg.inv(A4)\n",
    "inverse_A4"
   ]
  },
  {
   "cell_type": "code",
   "execution_count": 7,
   "id": "ff81fb7b",
   "metadata": {},
   "outputs": [
    {
     "name": "stdout",
     "output_type": "stream",
     "text": [
      "1.\n",
      " [[-0.42857143  0.57142857]\n",
      " [ 0.28571429 -0.21428571]]\n",
      "\n",
      "2.\n",
      " [[ 0.57142857 -0.42857143]\n",
      " [-0.21428571  0.28571429]]\n",
      "\n",
      "3.\n",
      " [[ 0.17647059 -0.00326797 -0.02287582]\n",
      " [ 0.05882353 -0.13071895  0.08496732]\n",
      " [-0.11764706  0.1503268   0.05228758]]\n",
      "\n",
      "4.\n",
      " [[-0.25        0.25       -0.5         0.25      ]\n",
      " [ 0.66666667 -0.5         0.5        -0.16666667]\n",
      " [ 0.16666667 -0.5         1.         -0.16666667]\n",
      " [ 0.41666667  0.25        0.5        -0.41666667]]\n"
     ]
    }
   ],
   "source": []
  },
  {
   "cell_type": "code",
   "execution_count": null,
   "id": "d06f82fb-0fd4-4b3e-8b85-c2c15acb978e",
   "metadata": {},
   "outputs": [],
   "source": []
  },
  {
   "cell_type": "code",
   "execution_count": null,
   "id": "21e839e9-5b67-425f-a111-deb4415dc19a",
   "metadata": {},
   "outputs": [],
   "source": []
  },
  {
   "cell_type": "code",
   "execution_count": null,
   "id": "31495977-83ec-48f3-bc08-274bc430844b",
   "metadata": {},
   "outputs": [],
   "source": [
    "#QUIZ"
   ]
  },
  {
   "cell_type": "code",
   "execution_count": 73,
   "id": "32c74ec6-1b9b-4f89-8cb1-703739651a8a",
   "metadata": {},
   "outputs": [],
   "source": [
    "S = np.array([[1, 0, 0], [0, 1, 0], [0, 0, 1]])"
   ]
  },
  {
   "cell_type": "code",
   "execution_count": 74,
   "id": "69342cd9-be0f-453e-a30e-e06fa64840a6",
   "metadata": {},
   "outputs": [],
   "source": [
    "v = np.array([[4], [7], [1]])"
   ]
  },
  {
   "cell_type": "code",
   "execution_count": 75,
   "id": "d9e25253-77f8-4fca-aa96-7689e7a7900a",
   "metadata": {},
   "outputs": [
    {
     "data": {
      "text/plain": [
       "array([[4.],\n",
       "       [7.],\n",
       "       [1.]])"
      ]
     },
     "execution_count": 75,
     "metadata": {},
     "output_type": "execute_result"
    }
   ],
   "source": [
    "x = np.linalg.solve(S, v)\n",
    "x"
   ]
  },
  {
   "cell_type": "code",
   "execution_count": null,
   "id": "d8fb43b6-8097-4072-b589-e08f3a0adc73",
   "metadata": {},
   "outputs": [],
   "source": [
    "#therefore vector v is in span S a=4 ,b=7,c=1 "
   ]
  },
  {
   "cell_type": "code",
   "execution_count": 69,
   "id": "53e8f6b7-46d5-4cc6-8340-6246697c4644",
   "metadata": {},
   "outputs": [],
   "source": [
    "import sympy as sp"
   ]
  },
  {
   "cell_type": "code",
   "execution_count": 71,
   "id": "efd8ace3-e076-4cb8-8516-6d620a47f39a",
   "metadata": {},
   "outputs": [],
   "source": [
    "v = np.array([[4], [7], [1]])"
   ]
  },
  {
   "cell_type": "code",
   "execution_count": null,
   "id": "5df6fdd7-0043-43a1-84e1-c27b7fd8bc80",
   "metadata": {},
   "outputs": [],
   "source": []
  },
  {
   "cell_type": "code",
   "execution_count": null,
   "id": "88b2517d-e880-4acd-90e5-99958366ab46",
   "metadata": {},
   "outputs": [],
   "source": []
  },
  {
   "cell_type": "code",
   "execution_count": 76,
   "id": "e4e4311b-a951-4bad-a290-0b7ba5951f3e",
   "metadata": {},
   "outputs": [],
   "source": [
    "v = np.array([[4,5], \n",
    "              [1,2], \n",
    "              [0,1]])"
   ]
  },
  {
   "cell_type": "code",
   "execution_count": 79,
   "id": "59438772-ff31-48d2-985c-ce3bb86931ad",
   "metadata": {},
   "outputs": [],
   "source": [
    "matrix = Matrix([\n",
    "              [4,1,0], \n",
    "              [5,2,1], \n",
    "              ])"
   ]
  },
  {
   "cell_type": "code",
   "execution_count": 80,
   "id": "45a9d90a-b731-4164-879f-6241ebc6d823",
   "metadata": {},
   "outputs": [
    {
     "data": {
      "text/plain": [
       "(Matrix([\n",
       " [1, 0, -1/3],\n",
       " [0, 1,  4/3]]),\n",
       " (0, 1))"
      ]
     },
     "execution_count": 80,
     "metadata": {},
     "output_type": "execute_result"
    }
   ],
   "source": [
    "matrix.rref()"
   ]
  },
  {
   "cell_type": "code",
   "execution_count": null,
   "id": "490896c8-3719-4350-9101-306815250159",
   "metadata": {},
   "outputs": [],
   "source": [
    "#linearly independent"
   ]
  },
  {
   "cell_type": "code",
   "execution_count": 81,
   "id": "1109c0fd-6d27-4960-a8be-5f085d5b7732",
   "metadata": {},
   "outputs": [],
   "source": [
    "c1 = -1/3 c2 ,c2=-4/3 c1 ,c3 is a free variable"
   ]
  },
  {
   "cell_type": "code",
   "execution_count": null,
   "id": "89be1595-6a87-41bc-8e48-8ba622c3e636",
   "metadata": {},
   "outputs": [],
   "source": [
    "#c2 = 4 can obtain the nontrivial solution where c3 =1"
   ]
  },
  {
   "cell_type": "code",
   "execution_count": null,
   "id": "4bacbbde-bf37-474b-8d81-b66643f268a3",
   "metadata": {},
   "outputs": [],
   "source": [
    "#we have a free variable C so it is depndent"
   ]
  },
  {
   "cell_type": "code",
   "execution_count": null,
   "id": "6ecabec2-2960-415c-9cf0-a5dc5fe5ff30",
   "metadata": {},
   "outputs": [],
   "source": []
  },
  {
   "cell_type": "code",
   "execution_count": null,
   "id": "a0246f0b-c80f-45ee-a772-4d0ee77df741",
   "metadata": {},
   "outputs": [],
   "source": [
    "determine whether in R3 or not check 1-linear independence 2-spaning the space"
   ]
  },
  {
   "cell_type": "code",
   "execution_count": 87,
   "id": "0baad033-efb0-4dcd-b123-c4b1c4f10cc8",
   "metadata": {},
   "outputs": [],
   "source": [
    "A = Matrix([\n",
    "    [1, 0, 0, 0],\n",
    "    [0, 1, 0, 0],\n",
    "    [0, 0, 1, 0],\n",
    "    [0, 0, 1, 1] \n",
    "])"
   ]
  },
  {
   "cell_type": "code",
   "execution_count": 88,
   "id": "d1bed4be-d452-4f1f-952a-a3ed1ae4857e",
   "metadata": {},
   "outputs": [
    {
     "data": {
      "text/plain": [
       "(Matrix([\n",
       " [1, 0, 0, 0],\n",
       " [0, 1, 0, 0],\n",
       " [0, 0, 1, 0],\n",
       " [0, 0, 0, 1]]),\n",
       " (0, 1, 2, 3))"
      ]
     },
     "execution_count": 88,
     "metadata": {},
     "output_type": "execute_result"
    }
   ],
   "source": [
    "A.rref()\n"
   ]
  },
  {
   "cell_type": "code",
   "execution_count": null,
   "id": "9442cad1-c4a8-4960-8111-77e8bb4b7855",
   "metadata": {},
   "outputs": [],
   "source": [
    "#not linearly independent,dosn't form basis for r3"
   ]
  },
  {
   "cell_type": "code",
   "execution_count": null,
   "id": "bc62d579-8657-4ee8-b840-ec73fbe1b66e",
   "metadata": {},
   "outputs": [],
   "source": []
  },
  {
   "cell_type": "code",
   "execution_count": null,
   "id": "8cc116e3-0601-4331-9887-a4d88d745409",
   "metadata": {},
   "outputs": [],
   "source": [
    "#shearing v=[[1,0],[1,1]]"
   ]
  },
  {
   "cell_type": "code",
   "execution_count": null,
   "id": "020178a3-837d-4351-bc0b-4e5e9d2e9a6f",
   "metadata": {},
   "outputs": [],
   "source": [
    "#INVERTING ON X-AXIS [[1,0],[0,-1]]"
   ]
  },
  {
   "cell_type": "code",
   "execution_count": null,
   "id": "a77efe11-e373-4437-b0f9-7728bc252235",
   "metadata": {},
   "outputs": [],
   "source": []
  },
  {
   "cell_type": "code",
   "execution_count": null,
   "id": "8a96ac97",
   "metadata": {},
   "outputs": [],
   "source": [
    "#HOMEWORK"
   ]
  },
  {
   "cell_type": "code",
   "execution_count": null,
   "id": "6065f67e-ac0b-472e-8b3b-504fce85160a",
   "metadata": {},
   "outputs": [],
   "source": []
  },
  {
   "cell_type": "code",
   "execution_count": 113,
   "id": "22a4c1d6-8a39-4550-b329-b00aaae16f10",
   "metadata": {},
   "outputs": [],
   "source": [
    "A = Matrix([\n",
    "    [1, 0, 2, -5],\n",
    "    [-2, 5, 0, 11],\n",
    "    [2, 5, 8, 8],\n",
    "])"
   ]
  },
  {
   "cell_type": "code",
   "execution_count": 114,
   "id": "7e40d371-120e-488d-8ea6-269a13aacc7b",
   "metadata": {},
   "outputs": [
    {
     "data": {
      "text/plain": [
       "(Matrix([\n",
       " [1, 0,   2, 0],\n",
       " [0, 1, 4/5, 0],\n",
       " [0, 0,   0, 1]]),\n",
       " (0, 1, 3))"
      ]
     },
     "execution_count": 114,
     "metadata": {},
     "output_type": "execute_result"
    }
   ],
   "source": [
    "A.rref()"
   ]
  },
  {
   "cell_type": "code",
   "execution_count": null,
   "id": "b61e3615-c688-4951-8511-6adcdc7370f7",
   "metadata": {},
   "outputs": [],
   "source": [
    "#no in this linear combination"
   ]
  },
  {
   "cell_type": "code",
   "execution_count": null,
   "id": "1f0d0196-4847-477e-97af-8842c6e0c962",
   "metadata": {},
   "outputs": [],
   "source": []
  },
  {
   "cell_type": "code",
   "execution_count": 115,
   "id": "7104c87c-b6d7-4a93-b04b-21fe4beaf0fa",
   "metadata": {},
   "outputs": [],
   "source": [
    "matrix = Matrix([\n",
    "              [1,0,1,2], \n",
    "              [1,2,2,1],\n",
    "              [0,1,2,1],\n",
    "              ])"
   ]
  },
  {
   "cell_type": "code",
   "execution_count": 116,
   "id": "9d555577-7b97-4363-bfe6-16f488639e0f",
   "metadata": {},
   "outputs": [
    {
     "data": {
      "text/plain": [
       "(Matrix([\n",
       " [1, 0, 0,  1],\n",
       " [0, 1, 0, -1],\n",
       " [0, 0, 1,  1]]),\n",
       " (0, 1, 2))"
      ]
     },
     "execution_count": 116,
     "metadata": {},
     "output_type": "execute_result"
    }
   ],
   "source": [
    "matrix.rref()"
   ]
  },
  {
   "cell_type": "code",
   "execution_count": null,
   "id": "39c93eb8-5dc4-48f4-93df-44b8af9d53ea",
   "metadata": {},
   "outputs": [],
   "source": [
    "#R4 set is linear dependent"
   ]
  },
  {
   "cell_type": "code",
   "execution_count": 121,
   "id": "985830c7-5f18-4dff-a3dc-967aa65d1808",
   "metadata": {},
   "outputs": [],
   "source": [
    "matrix = Matrix([\n",
    "              [0,2,-3], \n",
    "              [3,1,1],\n",
    "              [0,-1,-2],\n",
    "              ])"
   ]
  },
  {
   "cell_type": "code",
   "execution_count": 124,
   "id": "ca08fcba-4ff9-4386-852c-0ba1e4a97626",
   "metadata": {},
   "outputs": [],
   "source": [
    "e=Matrix([\n",
    "              [1,0,0], \n",
    "              [0,1,0],\n",
    "              [0,0,1],\n",
    "              ])"
   ]
  },
  {
   "cell_type": "code",
   "execution_count": 125,
   "id": "7a606453-aab5-4f1c-964e-dd07c05fddb7",
   "metadata": {},
   "outputs": [
    {
     "data": {
      "text/latex": [
       "$\\displaystyle \\left[\\begin{matrix}0 & 2 & -3\\\\3 & 1 & 1\\\\0 & -1 & -2\\end{matrix}\\right]$"
      ],
      "text/plain": [
       "Matrix([\n",
       "[0,  2, -3],\n",
       "[3,  1,  1],\n",
       "[0, -1, -2]])"
      ]
     },
     "execution_count": 125,
     "metadata": {},
     "output_type": "execute_result"
    }
   ],
   "source": [
    "matrix@e"
   ]
  },
  {
   "cell_type": "code",
   "execution_count": null,
   "id": "557c4418-9a02-43ff-b5b2-fd866177396d",
   "metadata": {},
   "outputs": [],
   "source": []
  },
  {
   "cell_type": "code",
   "execution_count": 126,
   "id": "5658cbac-764c-443f-8bd6-e9eaa888c349",
   "metadata": {},
   "outputs": [],
   "source": [
    "e=Matrix([\n",
    "              [1,-1,1], \n",
    "              [0,1,2],\n",
    "              [0,0,-1],\n",
    "              ])"
   ]
  },
  {
   "cell_type": "code",
   "execution_count": 127,
   "id": "e4a8e6b7-23ff-4f5b-8174-bb374a1803e9",
   "metadata": {},
   "outputs": [
    {
     "data": {
      "text/latex": [
       "$\\displaystyle \\left[\\begin{matrix}0 & 2 & 7\\\\3 & -2 & 4\\\\0 & -1 & 0\\end{matrix}\\right]$"
      ],
      "text/plain": [
       "Matrix([\n",
       "[0,  2, 7],\n",
       "[3, -2, 4],\n",
       "[0, -1, 0]])"
      ]
     },
     "execution_count": 127,
     "metadata": {},
     "output_type": "execute_result"
    }
   ],
   "source": [
    "matrix@e"
   ]
  },
  {
   "cell_type": "code",
   "execution_count": null,
   "id": "a88eff6a-8f21-463f-aa26-d5303425d4c7",
   "metadata": {},
   "outputs": [],
   "source": []
  }
 ],
 "metadata": {
  "kernelspec": {
   "display_name": "Python 3 (ipykernel)",
   "language": "python",
   "name": "python3"
  },
  "language_info": {
   "codemirror_mode": {
    "name": "ipython",
    "version": 3
   },
   "file_extension": ".py",
   "mimetype": "text/x-python",
   "name": "python",
   "nbconvert_exporter": "python",
   "pygments_lexer": "ipython3",
   "version": "3.11.1"
  }
 },
 "nbformat": 4,
 "nbformat_minor": 5
}
