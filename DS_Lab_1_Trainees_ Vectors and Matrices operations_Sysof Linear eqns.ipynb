{
 "cells": [
  {
   "cell_type": "code",
   "execution_count": 1,
   "id": "9c0d929f",
   "metadata": {},
   "outputs": [],
   "source": [
    "import numpy as np"
   ]
  },
  {
   "cell_type": "markdown",
   "id": "c56a1fa4",
   "metadata": {},
   "source": [
    "## Warm Up: Practice some NumPy commands:\n",
    "- Create 3 * 3 array.\n",
    "- Check its shape.\n",
    "- Select first row.\n",
    "- Select 2nd column.\n",
    "- Select the 2nd element in the third column.\n",
    "- Create 2*2 from the first two elements of the first 2 rows and columns.\n",
    "- Create single row vector.\n",
    "- Create single column vector."
   ]
  },
  {
   "cell_type": "code",
   "execution_count": null,
   "id": "997f7eea",
   "metadata": {},
   "outputs": [],
   "source": []
  },
  {
   "cell_type": "code",
   "execution_count": null,
   "id": "d892aa4a",
   "metadata": {},
   "outputs": [],
   "source": []
  },
  {
   "cell_type": "markdown",
   "id": "935d4b46",
   "metadata": {},
   "source": [
    "## System of linear equations:\n",
    "- The following system of linear equations can be represented as <b>Ax=b</b>.\n",
    "- Define matrix <b>A</b> and vector <b>b</b> as numpy arrays.\n",
    "- Print them out.\n",
    "1. $$3x-y=2$$ $$x=4 $$\n",
    "$$$$\n",
    "2. $$3x-2y=7$$  $$2x-2y=2$$\n",
    "$$$$\n",
    "3. $$2x-2y+z=7$$  $$x+y+z=2$$  $$3x-2y-z=3$$ "
   ]
  },
  {
   "cell_type": "code",
   "execution_count": 2,
   "id": "fd76ca8b",
   "metadata": {
    "scrolled": true
   },
   "outputs": [
    {
     "name": "stdout",
     "output_type": "stream",
     "text": [
      "A1:\n",
      "[[ 3 -1]\n",
      " [ 1  0]]\n",
      "b1:[[2]\n",
      " [4]]\n",
      "\n",
      "A2:\n",
      "[[ 3 -2]\n",
      " [ 2 -2]]\n",
      "b1:[[7]\n",
      " [2]]\n",
      "\n",
      "A3:\n",
      "[[ 3 -2  1]\n",
      " [ 1  1  1]\n",
      " [ 3 -2 -1]]\n",
      "b1:[[7]\n",
      " [2]\n",
      " [3]]\n"
     ]
    }
   ],
   "source": []
  },
  {
   "cell_type": "markdown",
   "id": "6fa32a70",
   "metadata": {},
   "source": [
    "### Find a solution for the above systems of equations using:\n",
    "<b>np.linalg.inv()</b>"
   ]
  },
  {
   "cell_type": "code",
   "execution_count": 8,
   "id": "fd743ec7",
   "metadata": {
    "scrolled": false
   },
   "outputs": [
    {
     "name": "stdout",
     "output_type": "stream",
     "text": [
      "x1= [[ 4.]\n",
      " [10.]] \n",
      "\n",
      "x2= [[5.]\n",
      " [4.]] \n",
      "\n",
      "x3= [[ 1.]\n",
      " [-1.]\n",
      " [ 2.]]\n"
     ]
    }
   ],
   "source": []
  },
  {
   "cell_type": "code",
   "execution_count": null,
   "id": "14ea2890",
   "metadata": {},
   "outputs": [],
   "source": []
  },
  {
   "cell_type": "markdown",
   "id": "6213a04c",
   "metadata": {},
   "source": [
    "### Find a solution for the above systems of equations using:\n",
    "<b>np.linalg.solve()</b>"
   ]
  },
  {
   "cell_type": "code",
   "execution_count": 3,
   "id": "e2dba8f6",
   "metadata": {},
   "outputs": [
    {
     "name": "stdout",
     "output_type": "stream",
     "text": [
      "x1= [[ 4.]\n",
      " [10.]] \n",
      "\n",
      "x2= [[5.]\n",
      " [4.]] \n",
      "\n",
      "x3= [[ 1.]\n",
      " [-1.]\n",
      " [ 2.]]\n"
     ]
    }
   ],
   "source": []
  },
  {
   "cell_type": "markdown",
   "id": "35de5d9a",
   "metadata": {},
   "source": [
    "## Using numpy arrays\n",
    "- For the above systems of equations, multiply matrix <b>A</b> and vector <b>x</b> and make sure the result is <b>b</b>."
   ]
  },
  {
   "cell_type": "code",
   "execution_count": 4,
   "id": "587ad6d5",
   "metadata": {
    "scrolled": false
   },
   "outputs": [
    {
     "data": {
      "text/plain": [
       "array([[2.],\n",
       "       [4.]])"
      ]
     },
     "execution_count": 4,
     "metadata": {},
     "output_type": "execute_result"
    }
   ],
   "source": []
  },
  {
   "cell_type": "code",
   "execution_count": 5,
   "id": "6564621e",
   "metadata": {},
   "outputs": [
    {
     "data": {
      "text/plain": [
       "array([[7.],\n",
       "       [2.]])"
      ]
     },
     "execution_count": 5,
     "metadata": {},
     "output_type": "execute_result"
    }
   ],
   "source": []
  },
  {
   "cell_type": "code",
   "execution_count": 6,
   "id": "3cc9cd71",
   "metadata": {},
   "outputs": [
    {
     "data": {
      "text/plain": [
       "array([[7.],\n",
       "       [2.],\n",
       "       [3.]])"
      ]
     },
     "execution_count": 6,
     "metadata": {},
     "output_type": "execute_result"
    }
   ],
   "source": []
  },
  {
   "cell_type": "code",
   "execution_count": null,
   "id": "aaa3fb0f",
   "metadata": {},
   "outputs": [],
   "source": []
  },
  {
   "cell_type": "markdown",
   "id": "5b20d61b",
   "metadata": {},
   "source": [
    "## Vector Norms"
   ]
  },
  {
   "cell_type": "markdown",
   "id": "053d9605",
   "metadata": {},
   "source": [
    "### Calculate using numpy linalg.norm().\n",
    "- Calculate L1, L2, Lmax norms for the following vectors:\n",
    "$$v_1=\\begin{bmatrix} 1 \\\\ 2 \\\\ 3 \\end{bmatrix},\n",
    "v_2=\\begin{bmatrix} 3 \\\\ 3 \\\\ 1 \\\\ 3 \\end{bmatrix}$$\n",
    "- Calculate L3 norm for the vector\n",
    "$$v_3=\\begin{bmatrix} 2 \\\\  3 \\\\ 4 \\end{bmatrix}$$"
   ]
  },
  {
   "cell_type": "code",
   "execution_count": 7,
   "id": "e5187437",
   "metadata": {},
   "outputs": [],
   "source": []
  },
  {
   "cell_type": "code",
   "execution_count": 8,
   "id": "edd26cb7",
   "metadata": {},
   "outputs": [],
   "source": []
  },
  {
   "cell_type": "code",
   "execution_count": 9,
   "id": "5276012c",
   "metadata": {},
   "outputs": [
    {
     "name": "stdout",
     "output_type": "stream",
     "text": [
      "v1:\n",
      "L1: 6.0\n",
      "L2: 3.7416573867739413\n",
      "Lmax: 3.0\n",
      "\n",
      "v2:\n",
      "L1: 10.0\n",
      "L2: 5.291502622129181\n",
      "Lmax: 3.0\n",
      "\n",
      "v3:\n",
      "L3: 4.626065009182741\n"
     ]
    }
   ],
   "source": []
  },
  {
   "cell_type": "markdown",
   "id": "4a09c2e3",
   "metadata": {},
   "source": [
    "### Calculate L1, L2, L3, and Lmax for the following vectors:\n",
    "$$v_1=\\begin{bmatrix} 5 \\\\ 6 \\end{bmatrix},\n",
    "v_2=\\begin{bmatrix} 4 \\\\ 3 \\\\ 2 \\end{bmatrix},\n",
    "v_3=\\begin{bmatrix} 4 \\\\ 3 \\\\ 2 \\\\ 8 \\\\ 9 \\end{bmatrix}$$"
   ]
  },
  {
   "cell_type": "code",
   "execution_count": 10,
   "id": "f8024557",
   "metadata": {},
   "outputs": [
    {
     "name": "stdout",
     "output_type": "stream",
     "text": [
      "v1:\n",
      "L1: 11.0\n",
      "L2: 7.810249675906654\n",
      "L3: 6.986368027818105\n",
      "Lmax: 6.0\n",
      "\n",
      "v2:\n",
      "L1: 9.0\n",
      "L2: 5.385164807134504\n",
      "L3: 4.626065009182741\n",
      "Lmax: 4.0\n",
      "\n",
      "v3:\n",
      "L1: 26.0\n",
      "L2: 13.19090595827292\n",
      "L3: 11.02473771449733\n",
      "Lmax: 9.0\n"
     ]
    }
   ],
   "source": []
  },
  {
   "cell_type": "markdown",
   "id": "8a1a0092",
   "metadata": {},
   "source": [
    "## Dot Product"
   ]
  },
  {
   "cell_type": "markdown",
   "id": "9560b90d",
   "metadata": {},
   "source": [
    "### Calculate the dot product of the following vectors:\n",
    "$$v_1=\\begin{bmatrix} 2 \\\\ -1 \\\\ 5 \\\\ 0 \\end{bmatrix} and\n",
    "v_2=\\begin{bmatrix} 4 \\\\ -3 \\\\ 1 \\\\ -1 \\end{bmatrix}$$\n",
    "### Calculate the dot product of the following vectors and explain the result:\n",
    "$$v_1=\\begin{bmatrix} 3 \\\\ 2 \\\\ -1 \\\\ 4 \\end{bmatrix} and\n",
    "v_2=\\begin{bmatrix} 1 \\\\ -1 \\\\ 1 \\\\ 0 \\end{bmatrix} $$ "
   ]
  },
  {
   "cell_type": "code",
   "execution_count": 11,
   "id": "ce34a72e",
   "metadata": {},
   "outputs": [
    {
     "data": {
      "text/plain": [
       "16"
      ]
     },
     "execution_count": 11,
     "metadata": {},
     "output_type": "execute_result"
    }
   ],
   "source": []
  },
  {
   "cell_type": "code",
   "execution_count": 12,
   "id": "80b5b407",
   "metadata": {},
   "outputs": [
    {
     "data": {
      "text/plain": [
       "0"
      ]
     },
     "execution_count": 12,
     "metadata": {},
     "output_type": "execute_result"
    }
   ],
   "source": []
  },
  {
   "cell_type": "markdown",
   "id": "f56c9a66",
   "metadata": {},
   "source": [
    "### Create two vectors in 2, 3, and 4 dimensions.\n",
    "### Perform vector addition, subtraction, and dot product of these vectors."
   ]
  },
  {
   "cell_type": "code",
   "execution_count": null,
   "id": "ee00f96e",
   "metadata": {},
   "outputs": [],
   "source": []
  },
  {
   "cell_type": "markdown",
   "id": "2a742954",
   "metadata": {},
   "source": [
    "## Matrix Operations"
   ]
  },
  {
   "cell_type": "markdown",
   "id": "7c857d78",
   "metadata": {},
   "source": [
    "### Matrix Multiplication AB then Transpose the result.\n",
    "$$A=\\begin{bmatrix} 3&1&0 \\\\ 2&1&2 \\end{bmatrix}, B=\\begin{bmatrix} 1&3 \\\\ 2&5 \\\\ -1&3 \\end{bmatrix}$$\n",
    "$$A=\\begin{bmatrix} 1&0&3 \\\\ 4&5&-1 \\\\ 0&0&2  \\end{bmatrix}, B=\\begin{bmatrix} 1\\\\2\\\\5 \\end{bmatrix}$$"
   ]
  },
  {
   "cell_type": "code",
   "execution_count": 13,
   "id": "9a6d4119",
   "metadata": {},
   "outputs": [
    {
     "name": "stdout",
     "output_type": "stream",
     "text": [
      "C1:\n",
      "[[ 5 14]\n",
      " [ 2 17]]\n",
      "\n",
      "C1_transpose:\n",
      "[[ 5  2]\n",
      " [14 17]]\n",
      "\n",
      "C2:\n",
      "[[16]\n",
      " [ 9]\n",
      " [10]]\n",
      "\n",
      "C2_transpose:\n",
      "[[16  9 10]]\n"
     ]
    }
   ],
   "source": []
  },
  {
   "cell_type": "markdown",
   "id": "a21c1d6f",
   "metadata": {},
   "source": [
    "## Different Types of Matrices\n",
    "### Create 3 by 3 and 4 by 4 identity matrices "
   ]
  },
  {
   "cell_type": "code",
   "execution_count": 5,
   "id": "b8174f59",
   "metadata": {},
   "outputs": [
    {
     "data": {
      "text/plain": [
       "array([[1., 0., 0.],\n",
       "       [0., 1., 0.],\n",
       "       [0., 0., 1.]])"
      ]
     },
     "execution_count": 5,
     "metadata": {},
     "output_type": "execute_result"
    }
   ],
   "source": []
  },
  {
   "cell_type": "code",
   "execution_count": 6,
   "id": "feabc567",
   "metadata": {
    "scrolled": true
   },
   "outputs": [
    {
     "data": {
      "text/plain": [
       "array([[1., 0., 0., 0.],\n",
       "       [0., 1., 0., 0.],\n",
       "       [0., 0., 1., 0.],\n",
       "       [0., 0., 0., 1.]])"
      ]
     },
     "execution_count": 6,
     "metadata": {},
     "output_type": "execute_result"
    }
   ],
   "source": []
  },
  {
   "cell_type": "markdown",
   "id": "3cd908c2",
   "metadata": {},
   "source": [
    "### Create a diagonal matrix contains [2,4,5,11] numbers in its diagonal."
   ]
  },
  {
   "cell_type": "code",
   "execution_count": 37,
   "id": "c622a921",
   "metadata": {},
   "outputs": [
    {
     "data": {
      "text/plain": [
       "array([[ 2,  0,  0,  0],\n",
       "       [ 0,  4,  0,  0],\n",
       "       [ 0,  0,  5,  0],\n",
       "       [ 0,  0,  0, 11]])"
      ]
     },
     "execution_count": 37,
     "metadata": {},
     "output_type": "execute_result"
    }
   ],
   "source": []
  },
  {
   "cell_type": "markdown",
   "id": "7b39f0ce",
   "metadata": {},
   "source": [
    "### Create a 5 by 5 scalar matrix of number 7"
   ]
  },
  {
   "cell_type": "code",
   "execution_count": 38,
   "id": "3bc1166e",
   "metadata": {},
   "outputs": [
    {
     "data": {
      "text/plain": [
       "array([[7., 0., 0., 0., 0.],\n",
       "       [0., 7., 0., 0., 0.],\n",
       "       [0., 0., 7., 0., 0.],\n",
       "       [0., 0., 0., 7., 0.],\n",
       "       [0., 0., 0., 0., 7.]])"
      ]
     },
     "execution_count": 38,
     "metadata": {},
     "output_type": "execute_result"
    }
   ],
   "source": []
  },
  {
   "cell_type": "markdown",
   "id": "71946845",
   "metadata": {},
   "source": [
    "### Using SymPy get the rref of the following matrices"
   ]
  },
  {
   "cell_type": "code",
   "execution_count": 16,
   "id": "3890b9a0",
   "metadata": {
    "scrolled": true
   },
   "outputs": [
    {
     "data": {
      "text/latex": [
       "$\\displaystyle \\left[\\begin{matrix}1 & 0 & 1 & 3\\\\2 & 3 & 4 & 7\\\\-1 & -3 & -3 & -4\\end{matrix}\\right]$"
      ],
      "text/plain": [
       "Matrix([\n",
       "[ 1,  0,  1,  3],\n",
       "[ 2,  3,  4,  7],\n",
       "[-1, -3, -3, -4]])"
      ]
     },
     "execution_count": 16,
     "metadata": {},
     "output_type": "execute_result"
    }
   ],
   "source": []
  },
  {
   "cell_type": "code",
   "execution_count": 19,
   "id": "cae2dd36",
   "metadata": {},
   "outputs": [
    {
     "data": {
      "text/latex": [
       "$\\displaystyle \\left[\\begin{matrix}1 & 1 & 1\\\\1 & 2 & 2\\\\1 & 2 & 3\\end{matrix}\\right]$"
      ],
      "text/plain": [
       "Matrix([\n",
       "[1, 1, 1],\n",
       "[1, 2, 2],\n",
       "[1, 2, 3]])"
      ]
     },
     "execution_count": 19,
     "metadata": {},
     "output_type": "execute_result"
    }
   ],
   "source": []
  },
  {
   "cell_type": "code",
   "execution_count": 26,
   "id": "a20bb9c5",
   "metadata": {},
   "outputs": [
    {
     "data": {
      "text/latex": [
       "$\\displaystyle \\left[\\begin{matrix}1 & 2 & 3\\\\2 & -1 & 1\\\\3 & 0 & -1\\end{matrix}\\right]$"
      ],
      "text/plain": [
       "Matrix([\n",
       "[1,  2,  3],\n",
       "[2, -1,  1],\n",
       "[3,  0, -1]])"
      ]
     },
     "execution_count": 26,
     "metadata": {},
     "output_type": "execute_result"
    }
   ],
   "source": []
  },
  {
   "cell_type": "code",
   "execution_count": 40,
   "id": "0c2fd90d",
   "metadata": {},
   "outputs": [],
   "source": []
  },
  {
   "cell_type": "code",
   "execution_count": 41,
   "id": "b95001b8",
   "metadata": {},
   "outputs": [
    {
     "data": {
      "text/latex": [
       "$\\displaystyle \\left[\\begin{matrix}1 & 0 & 1 & 3\\\\2 & 3 & 4 & 7\\\\-1 & -3 & -3 & -4\\end{matrix}\\right]$"
      ],
      "text/plain": [
       "Matrix([\n",
       "[ 1,  0,  1,  3],\n",
       "[ 2,  3,  4,  7],\n",
       "[-1, -3, -3, -4]])"
      ]
     },
     "execution_count": 41,
     "metadata": {},
     "output_type": "execute_result"
    }
   ],
   "source": []
  },
  {
   "cell_type": "code",
   "execution_count": 42,
   "id": "d83b2913",
   "metadata": {},
   "outputs": [
    {
     "data": {
      "text/plain": [
       "(Matrix([\n",
       " [1, 0,   1,   3],\n",
       " [0, 1, 2/3, 1/3],\n",
       " [0, 0,   0,   0]]),\n",
       " (0, 1))"
      ]
     },
     "execution_count": 42,
     "metadata": {},
     "output_type": "execute_result"
    }
   ],
   "source": []
  },
  {
   "cell_type": "code",
   "execution_count": 43,
   "id": "d272eef4",
   "metadata": {},
   "outputs": [
    {
     "data": {
      "text/latex": [
       "$\\displaystyle \\left[\\begin{matrix}1 & 1 & 1\\\\1 & 2 & 2\\\\1 & 2 & 3\\end{matrix}\\right]$"
      ],
      "text/plain": [
       "Matrix([\n",
       "[1, 1, 1],\n",
       "[1, 2, 2],\n",
       "[1, 2, 3]])"
      ]
     },
     "execution_count": 43,
     "metadata": {},
     "output_type": "execute_result"
    }
   ],
   "source": []
  },
  {
   "cell_type": "code",
   "execution_count": 44,
   "id": "c05a3272",
   "metadata": {},
   "outputs": [
    {
     "data": {
      "text/plain": [
       "(Matrix([\n",
       " [1, 0, 0],\n",
       " [0, 1, 0],\n",
       " [0, 0, 1]]),\n",
       " (0, 1, 2))"
      ]
     },
     "execution_count": 44,
     "metadata": {},
     "output_type": "execute_result"
    }
   ],
   "source": []
  },
  {
   "cell_type": "code",
   "execution_count": 45,
   "id": "12c3f8c7",
   "metadata": {},
   "outputs": [
    {
     "data": {
      "text/latex": [
       "$\\displaystyle \\left[\\begin{matrix}1 & 2 & 3\\\\2 & -1 & 1\\\\3 & 0 & -1\\end{matrix}\\right]$"
      ],
      "text/plain": [
       "Matrix([\n",
       "[1,  2,  3],\n",
       "[2, -1,  1],\n",
       "[3,  0, -1]])"
      ]
     },
     "execution_count": 45,
     "metadata": {},
     "output_type": "execute_result"
    }
   ],
   "source": []
  },
  {
   "cell_type": "code",
   "execution_count": 46,
   "id": "3e017709",
   "metadata": {},
   "outputs": [
    {
     "data": {
      "text/plain": [
       "(Matrix([\n",
       " [1, 0, 0],\n",
       " [0, 1, 0],\n",
       " [0, 0, 1]]),\n",
       " (0, 1, 2))"
      ]
     },
     "execution_count": 46,
     "metadata": {},
     "output_type": "execute_result"
    }
   ],
   "source": []
  },
  {
   "cell_type": "markdown",
   "id": "bbeff11d",
   "metadata": {},
   "source": [
    "### Find the solution of the following system of linear equation using SymPy Matrix rref()\n",
    "#### Write down the solution as a python note e.g., x=1, y=4, and z=10"
   ]
  },
  {
   "cell_type": "markdown",
   "id": "61dcc75c",
   "metadata": {},
   "source": [
    "1. $$x+y+z=6$$  $$x+2y+2z=9$$  $$x+2y+3z=10$$ \n",
    "$$$$\n",
    "2. $$x+2y+3z=9$$  $$2x-y+z=8$$  $$3x-z=3$$ "
   ]
  },
  {
   "cell_type": "code",
   "execution_count": 28,
   "id": "5b44f38e",
   "metadata": {},
   "outputs": [
    {
     "data": {
      "text/latex": [
       "$\\displaystyle \\left[\\begin{matrix}1 & 1 & 1 & 6\\\\1 & 2 & 2 & 9\\\\1 & 2 & 3 & 10\\end{matrix}\\right]$"
      ],
      "text/plain": [
       "Matrix([\n",
       "[1, 1, 1,  6],\n",
       "[1, 2, 2,  9],\n",
       "[1, 2, 3, 10]])"
      ]
     },
     "execution_count": 28,
     "metadata": {},
     "output_type": "execute_result"
    }
   ],
   "source": []
  },
  {
   "cell_type": "code",
   "execution_count": 30,
   "id": "92c73f88",
   "metadata": {},
   "outputs": [
    {
     "data": {
      "text/plain": [
       "(Matrix([\n",
       " [1, 0, 0, 3],\n",
       " [0, 1, 0, 2],\n",
       " [0, 0, 1, 1]]),\n",
       " (0, 1, 2))"
      ]
     },
     "execution_count": 30,
     "metadata": {},
     "output_type": "execute_result"
    }
   ],
   "source": []
  },
  {
   "cell_type": "code",
   "execution_count": 31,
   "id": "cca5716e",
   "metadata": {},
   "outputs": [
    {
     "data": {
      "text/latex": [
       "$\\displaystyle \\left[\\begin{matrix}1 & 2 & 3 & 9\\\\2 & -1 & 1 & 8\\\\3 & 0 & -1 & 3\\end{matrix}\\right]$"
      ],
      "text/plain": [
       "Matrix([\n",
       "[1,  2,  3, 9],\n",
       "[2, -1,  1, 8],\n",
       "[3,  0, -1, 3]])"
      ]
     },
     "execution_count": 31,
     "metadata": {},
     "output_type": "execute_result"
    }
   ],
   "source": []
  },
  {
   "cell_type": "code",
   "execution_count": 32,
   "id": "9360b021",
   "metadata": {},
   "outputs": [
    {
     "data": {
      "text/plain": [
       "(Matrix([\n",
       " [1, 0, 0,  2],\n",
       " [0, 1, 0, -1],\n",
       " [0, 0, 1,  3]]),\n",
       " (0, 1, 2))"
      ]
     },
     "execution_count": 32,
     "metadata": {},
     "output_type": "execute_result"
    }
   ],
   "source": []
  },
  {
   "cell_type": "markdown",
   "id": "78429ec9",
   "metadata": {},
   "source": [
    "### Find the solution of the following system of linear equation using SymPy Matrix rref()\n",
    "#### Write down the solution as a python note e.g., x=1, y=4, and z=10"
   ]
  },
  {
   "cell_type": "markdown",
   "id": "48df16ae",
   "metadata": {},
   "source": [
    "1. $$x-2y=1$$ $$3x-6y=11 $$\n",
    "$$$$\n",
    "2. $$x-2y=1$$ $$3x-6y=3 $$\n",
    "$$$$\n",
    "3. $$x+2y+3z=6$$  $$2x+5y+2z=4$$  $$6x-3y+z=2$$ \n",
    "$$$$\n",
    "4. $$2x+4y-2z=2$$  $$4x+9y-3z=8$$  $$-2x-3y+7z=10$$ "
   ]
  },
  {
   "cell_type": "code",
   "execution_count": 6,
   "id": "43cb6368",
   "metadata": {},
   "outputs": [
    {
     "data": {
      "text/latex": [
       "$\\displaystyle \\left[\\begin{matrix}1 & -2 & 1\\\\3 & -6 & 11\\end{matrix}\\right]$"
      ],
      "text/plain": [
       "Matrix([\n",
       "[1, -2,  1],\n",
       "[3, -6, 11]])"
      ]
     },
     "execution_count": 6,
     "metadata": {},
     "output_type": "execute_result"
    }
   ],
   "source": []
  },
  {
   "cell_type": "code",
   "execution_count": 7,
   "id": "d1af10bc",
   "metadata": {},
   "outputs": [
    {
     "data": {
      "text/plain": [
       "(Matrix([\n",
       " [1, -2, 0],\n",
       " [0,  0, 1]]),\n",
       " (0, 2))"
      ]
     },
     "execution_count": 7,
     "metadata": {},
     "output_type": "execute_result"
    }
   ],
   "source": []
  },
  {
   "cell_type": "code",
   "execution_count": 35,
   "id": "c279c860",
   "metadata": {},
   "outputs": [
    {
     "data": {
      "text/latex": [
       "$\\displaystyle \\left[\\begin{matrix}1 & -2 & 1\\\\3 & -6 & 3\\end{matrix}\\right]$"
      ],
      "text/plain": [
       "Matrix([\n",
       "[1, -2, 1],\n",
       "[3, -6, 3]])"
      ]
     },
     "execution_count": 35,
     "metadata": {},
     "output_type": "execute_result"
    }
   ],
   "source": []
  },
  {
   "cell_type": "code",
   "execution_count": 36,
   "id": "24e71492",
   "metadata": {},
   "outputs": [
    {
     "data": {
      "text/plain": [
       "(Matrix([\n",
       " [1, -2, 1],\n",
       " [0,  0, 0]]),\n",
       " (0,))"
      ]
     },
     "execution_count": 36,
     "metadata": {},
     "output_type": "execute_result"
    }
   ],
   "source": []
  },
  {
   "cell_type": "code",
   "execution_count": 37,
   "id": "0bd4ec36",
   "metadata": {},
   "outputs": [
    {
     "data": {
      "text/latex": [
       "$\\displaystyle \\left[\\begin{matrix}1 & 2 & 3 & 6\\\\2 & 5 & 2 & 4\\\\6 & -3 & 1 & 2\\end{matrix}\\right]$"
      ],
      "text/plain": [
       "Matrix([\n",
       "[1,  2, 3, 6],\n",
       "[2,  5, 2, 4],\n",
       "[6, -3, 1, 2]])"
      ]
     },
     "execution_count": 37,
     "metadata": {},
     "output_type": "execute_result"
    }
   ],
   "source": []
  },
  {
   "cell_type": "code",
   "execution_count": 38,
   "id": "cda3bcc0",
   "metadata": {},
   "outputs": [
    {
     "data": {
      "text/plain": [
       "(Matrix([\n",
       " [1, 0, 0, 0],\n",
       " [0, 1, 0, 0],\n",
       " [0, 0, 1, 2]]),\n",
       " (0, 1, 2))"
      ]
     },
     "execution_count": 38,
     "metadata": {},
     "output_type": "execute_result"
    }
   ],
   "source": []
  },
  {
   "cell_type": "code",
   "execution_count": 39,
   "id": "e996abd6",
   "metadata": {},
   "outputs": [
    {
     "data": {
      "text/latex": [
       "$\\displaystyle \\left[\\begin{matrix}2 & 4 & -2 & 2\\\\4 & 9 & -3 & 8\\\\-2 & -3 & 7 & 10\\end{matrix}\\right]$"
      ],
      "text/plain": [
       "Matrix([\n",
       "[ 2,  4, -2,  2],\n",
       "[ 4,  9, -3,  8],\n",
       "[-2, -3,  7, 10]])"
      ]
     },
     "execution_count": 39,
     "metadata": {},
     "output_type": "execute_result"
    }
   ],
   "source": []
  },
  {
   "cell_type": "code",
   "execution_count": 40,
   "id": "dbe22672",
   "metadata": {},
   "outputs": [
    {
     "data": {
      "text/plain": [
       "(Matrix([\n",
       " [1, 0, 0, -1],\n",
       " [0, 1, 0,  2],\n",
       " [0, 0, 1,  2]]),\n",
       " (0, 1, 2))"
      ]
     },
     "execution_count": 40,
     "metadata": {},
     "output_type": "execute_result"
    }
   ],
   "source": []
  },
  {
   "cell_type": "code",
   "execution_count": null,
   "id": "8a189748",
   "metadata": {},
   "outputs": [],
   "source": []
  },
  {
   "cell_type": "code",
   "execution_count": null,
   "id": "30d9d644",
   "metadata": {},
   "outputs": [],
   "source": []
  }
 ],
 "metadata": {
  "kernelspec": {
   "display_name": "Python 3 (ipykernel)",
   "language": "python",
   "name": "python3"
  },
  "language_info": {
   "codemirror_mode": {
    "name": "ipython",
    "version": 3
   },
   "file_extension": ".py",
   "mimetype": "text/x-python",
   "name": "python",
   "nbconvert_exporter": "python",
   "pygments_lexer": "ipython3",
   "version": "3.9.12"
  }
 },
 "nbformat": 4,
 "nbformat_minor": 5
}
